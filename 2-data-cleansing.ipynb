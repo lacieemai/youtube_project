{
 "cells": [
  {
   "cell_type": "markdown",
   "metadata": {},
   "source": [
    "# Chapter 2. Data cleansing\n",
    "\n",
    "Now that we got the needed data, it's time to look at it to figure out whether it is ready to be used in our algorithms (spoiler: it is not). \n",
    "\n",
    "## Imports\n",
    "\n",
    "At first we have some pretty standard modules here: `pandas`, `numpy` and `utils`, our file with custom functions. \n",
    "\n",
    "We're also going to keep our data in a .json file rather than .csv, and we'll need `json` module to perform the corresponding conversion. \n",
    "\n",
    "Built-in pandas functions for regular expressions will be enough for us almost everywhere, but in some cases we'll still need `re` module."
   ]
  },
  {
   "cell_type": "code",
   "execution_count": 1,
   "metadata": {},
   "outputs": [],
   "source": [
    "import pandas as pd\n",
    "import numpy as np\n",
    "import utils\n",
    "import json\n",
    "import re"
   ]
  },
  {
   "cell_type": "markdown",
   "metadata": {},
   "source": [
    "## Captions transformation\n",
    "\n",
    "The first step in our work today is to read the data from our `videos.csv` file and look at what we have there."
   ]
  },
  {
   "cell_type": "code",
   "execution_count": 2,
   "metadata": {},
   "outputs": [],
   "source": [
    "df = pd.read_csv(\"./data/videos.csv\", index_col='Unnamed: 0')\n",
    "df.drop(columns=['id'], inplace=True)"
   ]
  },
  {
   "cell_type": "code",
   "execution_count": 3,
   "metadata": {},
   "outputs": [
    {
     "data": {
      "text/html": [
       "<div>\n",
       "<style scoped>\n",
       "    .dataframe tbody tr th:only-of-type {\n",
       "        vertical-align: middle;\n",
       "    }\n",
       "\n",
       "    .dataframe tbody tr th {\n",
       "        vertical-align: top;\n",
       "    }\n",
       "\n",
       "    .dataframe thead th {\n",
       "        text-align: right;\n",
       "    }\n",
       "</style>\n",
       "<table border=\"1\" class=\"dataframe\">\n",
       "  <thead>\n",
       "    <tr style=\"text-align: right;\">\n",
       "      <th></th>\n",
       "      <th>title</th>\n",
       "      <th>description</th>\n",
       "      <th>thumbnail</th>\n",
       "      <th>video_id</th>\n",
       "      <th>captions</th>\n",
       "      <th>published_at</th>\n",
       "      <th>tags</th>\n",
       "      <th>channel_id</th>\n",
       "      <th>views</th>\n",
       "      <th>likes</th>\n",
       "      <th>dislikes</th>\n",
       "      <th>comments_count</th>\n",
       "    </tr>\n",
       "  </thead>\n",
       "  <tbody>\n",
       "    <tr>\n",
       "      <th>0</th>\n",
       "      <td>Your identity is your superpower | America Fer...</td>\n",
       "      <td>Watch the full talk: http://tedtalks.social/su...</td>\n",
       "      <td>https://i.ytimg.com/vi/XQJhRDbsDzI/default.jpg</td>\n",
       "      <td>XQJhRDbsDzI</td>\n",
       "      <td>1\\n00:00:00,350 --&gt; 00:00:06,470\\nWhen I was 1...</td>\n",
       "      <td>2021-07-10T14:00:12Z</td>\n",
       "      <td>['TEDTalk', 'TEDTalks', 'TED Talk', 'TED Talks...</td>\n",
       "      <td>UCAuUUnT6oDeKwE6v1NGQxug</td>\n",
       "      <td>69496</td>\n",
       "      <td>2991.0</td>\n",
       "      <td>385.0</td>\n",
       "      <td>8.0</td>\n",
       "    </tr>\n",
       "    <tr>\n",
       "      <th>1</th>\n",
       "      <td>Documentary films that explore trauma -- and m...</td>\n",
       "      <td>Visit http://TED.com/shapeyourfuture to watch ...</td>\n",
       "      <td>https://i.ytimg.com/vi/xvG3ftEv5rM/default.jpg</td>\n",
       "      <td>xvG3ftEv5rM</td>\n",
       "      <td>1\\n00:00:14,331 --&gt; 00:00:16,542\\n[SHAPE YOUR ...</td>\n",
       "      <td>2021-07-09T15:30:06Z</td>\n",
       "      <td>['TEDTalk', 'TEDTalks', 'TED Talk', 'TED Talks...</td>\n",
       "      <td>UCAuUUnT6oDeKwE6v1NGQxug</td>\n",
       "      <td>26010</td>\n",
       "      <td>1076.0</td>\n",
       "      <td>35.0</td>\n",
       "      <td>59.0</td>\n",
       "    </tr>\n",
       "    <tr>\n",
       "      <th>2</th>\n",
       "      <td>A cleanse won't detox your body -- but here's ...</td>\n",
       "      <td>Put down the cayenne-lemon water and step away...</td>\n",
       "      <td>https://i.ytimg.com/vi/DESCcjSQSKY/default.jpg</td>\n",
       "      <td>DESCcjSQSKY</td>\n",
       "      <td>1\\n00:00:00,000 --&gt; 00:00:07,000\\nTranscriber:...</td>\n",
       "      <td>2021-07-08T15:15:00Z</td>\n",
       "      <td>['TEDTalk', 'TEDTalks', 'TED Talk', 'TED Talks...</td>\n",
       "      <td>UCAuUUnT6oDeKwE6v1NGQxug</td>\n",
       "      <td>457410</td>\n",
       "      <td>23220.0</td>\n",
       "      <td>452.0</td>\n",
       "      <td>828.0</td>\n",
       "    </tr>\n",
       "    <tr>\n",
       "      <th>3</th>\n",
       "      <td>What should humans take to space (and leave be...</td>\n",
       "      <td>Visit http://TED.com/shapeyourfuture to watch ...</td>\n",
       "      <td>https://i.ytimg.com/vi/D3LFVlI5ir8/default.jpg</td>\n",
       "      <td>D3LFVlI5ir8</td>\n",
       "      <td>1\\n00:00:14,871 --&gt; 00:00:16,579\\n[SHAPE YOUR ...</td>\n",
       "      <td>2021-07-07T15:14:57Z</td>\n",
       "      <td>['TEDTalk', 'TEDTalks', 'TED Talk', 'TED Talks...</td>\n",
       "      <td>UCAuUUnT6oDeKwE6v1NGQxug</td>\n",
       "      <td>23259</td>\n",
       "      <td>628.0</td>\n",
       "      <td>153.0</td>\n",
       "      <td>145.0</td>\n",
       "    </tr>\n",
       "    <tr>\n",
       "      <th>4</th>\n",
       "      <td>How to be a professional troublemaker | Luvvie...</td>\n",
       "      <td>Visit http://TED.com to get our entire library...</td>\n",
       "      <td>https://i.ytimg.com/vi/EfeiKPSBKfg/default.jpg</td>\n",
       "      <td>EfeiKPSBKfg</td>\n",
       "      <td>1\\n00:00:00,000 --&gt; 00:00:07,000\\nTranscriber:...</td>\n",
       "      <td>2021-07-06T16:45:00Z</td>\n",
       "      <td>['TEDTalk', 'TEDTalks', 'TED Talk', 'TED Talks...</td>\n",
       "      <td>UCAuUUnT6oDeKwE6v1NGQxug</td>\n",
       "      <td>25494</td>\n",
       "      <td>844.0</td>\n",
       "      <td>96.0</td>\n",
       "      <td>95.0</td>\n",
       "    </tr>\n",
       "  </tbody>\n",
       "</table>\n",
       "</div>"
      ],
      "text/plain": [
       "                                               title  \\\n",
       "0  Your identity is your superpower | America Fer...   \n",
       "1  Documentary films that explore trauma -- and m...   \n",
       "2  A cleanse won't detox your body -- but here's ...   \n",
       "3  What should humans take to space (and leave be...   \n",
       "4  How to be a professional troublemaker | Luvvie...   \n",
       "\n",
       "                                         description  \\\n",
       "0  Watch the full talk: http://tedtalks.social/su...   \n",
       "1  Visit http://TED.com/shapeyourfuture to watch ...   \n",
       "2  Put down the cayenne-lemon water and step away...   \n",
       "3  Visit http://TED.com/shapeyourfuture to watch ...   \n",
       "4  Visit http://TED.com to get our entire library...   \n",
       "\n",
       "                                        thumbnail     video_id  \\\n",
       "0  https://i.ytimg.com/vi/XQJhRDbsDzI/default.jpg  XQJhRDbsDzI   \n",
       "1  https://i.ytimg.com/vi/xvG3ftEv5rM/default.jpg  xvG3ftEv5rM   \n",
       "2  https://i.ytimg.com/vi/DESCcjSQSKY/default.jpg  DESCcjSQSKY   \n",
       "3  https://i.ytimg.com/vi/D3LFVlI5ir8/default.jpg  D3LFVlI5ir8   \n",
       "4  https://i.ytimg.com/vi/EfeiKPSBKfg/default.jpg  EfeiKPSBKfg   \n",
       "\n",
       "                                            captions          published_at  \\\n",
       "0  1\\n00:00:00,350 --> 00:00:06,470\\nWhen I was 1...  2021-07-10T14:00:12Z   \n",
       "1  1\\n00:00:14,331 --> 00:00:16,542\\n[SHAPE YOUR ...  2021-07-09T15:30:06Z   \n",
       "2  1\\n00:00:00,000 --> 00:00:07,000\\nTranscriber:...  2021-07-08T15:15:00Z   \n",
       "3  1\\n00:00:14,871 --> 00:00:16,579\\n[SHAPE YOUR ...  2021-07-07T15:14:57Z   \n",
       "4  1\\n00:00:00,000 --> 00:00:07,000\\nTranscriber:...  2021-07-06T16:45:00Z   \n",
       "\n",
       "                                                tags  \\\n",
       "0  ['TEDTalk', 'TEDTalks', 'TED Talk', 'TED Talks...   \n",
       "1  ['TEDTalk', 'TEDTalks', 'TED Talk', 'TED Talks...   \n",
       "2  ['TEDTalk', 'TEDTalks', 'TED Talk', 'TED Talks...   \n",
       "3  ['TEDTalk', 'TEDTalks', 'TED Talk', 'TED Talks...   \n",
       "4  ['TEDTalk', 'TEDTalks', 'TED Talk', 'TED Talks...   \n",
       "\n",
       "                 channel_id   views    likes  dislikes  comments_count  \n",
       "0  UCAuUUnT6oDeKwE6v1NGQxug   69496   2991.0     385.0             8.0  \n",
       "1  UCAuUUnT6oDeKwE6v1NGQxug   26010   1076.0      35.0            59.0  \n",
       "2  UCAuUUnT6oDeKwE6v1NGQxug  457410  23220.0     452.0           828.0  \n",
       "3  UCAuUUnT6oDeKwE6v1NGQxug   23259    628.0     153.0           145.0  \n",
       "4  UCAuUUnT6oDeKwE6v1NGQxug   25494    844.0      96.0            95.0  "
      ]
     },
     "execution_count": 3,
     "metadata": {},
     "output_type": "execute_result"
    }
   ],
   "source": [
    "df.head()"
   ]
  },
  {
   "cell_type": "code",
   "execution_count": 4,
   "metadata": {},
   "outputs": [
    {
     "data": {
      "text/plain": [
       "(3589, 12)"
      ]
     },
     "execution_count": 4,
     "metadata": {},
     "output_type": "execute_result"
    }
   ],
   "source": [
    "df.shape"
   ]
  },
  {
   "cell_type": "markdown",
   "metadata": {},
   "source": [
    "The first thing I would like to cope with is subtitles, as they have a major importance for the aims of the project. Let's take a look at what we've got in the previous chapter."
   ]
  },
  {
   "cell_type": "code",
   "execution_count": 5,
   "metadata": {},
   "outputs": [
    {
     "data": {
      "text/plain": [
       "'1\\n00:00:26,000 --> 00:00:30,000\\nI wrote this poem after hearing a pretty well known actress\\n\\n2\\n00:00:30,000 --> 00:00:33,000\\ntell a very well known interviewer on television,\\n\\n3\\n00:00:33,000 --> 00:00:35,000\\n\"I\\'m really getting into the Internet lately.\\n\\n4\\n00:00:35,000 --> 00:00:37,000\\nI just wish it were more organized.\"\\n\\n5\\n00:00:37,000 --> 00:00:38,000\\nSo ...\\n\\n6\\n00:00:38,000 --> 00:00:40,000\\n(Laughter)\\n\\n7\\n00:00:42,000 --> 00:00:45,000\\nIf I controlled the Internet,\\n\\n8\\n00:00:45,000 --> 00:00:49,000\\nyou could auction your broken heart on eBay.\\n\\n9\\n00:00:49,000 --> 00:00:51,000\\nTake the money; go to Amazon;\\n\\n10\\n00:00:51,000 --> 00:00:55,000\\nbuy a phonebook for a country you\\'ve never been to -- call folks at random\\n\\n11\\n00:00:55,000 --> 00:00:58,000\\nuntil you find someone who flirts really well in a foreign language.\\n\\n12\\n00:00:58,000 --> 00:00:59,000\\n(Laughter)\\n\\n13\\n00:00:59,000 --> 00:01:01,000\\nIf I were in charge of the Internet,\\n\\n14\\n00:01:01,000 --> 00:01:04,000\\nyou could Mapquest your lover\\'s mood swings.\\n\\n15\\n00:01:04,000 --> 00:01:08,000\\nHang left at cranky, right at preoccupied,\\n\\n16\\n00:01:08,000 --> 00:01:10,000\\nU-turn on silent treatment,\\n\\n17\\n00:01:10,000 --> 00:01:13,000\\nall the way back to tongue kissing and good lovin\\'.\\n\\n18\\n00:01:13,000 --> 00:01:16,000\\nYou could navigate and understand every emotional intersection.\\n\\n19\\n00:01:16,000 --> 00:01:19,000\\nSome days, I\\'m as shallow as a baking pan,\\n\\n20\\n00:01:19,000 --> 00:01:21,000\\nbut I still stretch miles in all directions.\\n\\n21\\n00:01:21,000 --> 00:01:27,000\\nIf I owned the Internet, Napster, Monster and Friendster.com\\n\\n22\\n00:01:27,000 --> 00:01:29,000\\nwould be one big website.\\n\\n23\\n00:01:29,000 --> 00:01:31,000\\nThat way you could listen to cool music\\n\\n24\\n00:01:31,000 --> 00:01:33,000\\nwhile you pretend to look for a job\\n\\n25\\n00:01:33,000 --> 00:01:35,000\\nand you\\'re really just chattin\\' with your pals.\\n\\n26\\n00:01:35,000 --> 00:01:36,000\\n(Laughter)\\n\\n27\\n00:01:36,000 --> 00:01:40,000\\nHeck, if I ran the Web, you could email dead people.\\n\\n28\\n00:01:40,000 --> 00:01:42,000\\n(Laughter)\\n\\n29\\n00:01:42,000 --> 00:01:44,000\\nThey would not email you back\\n\\n30\\n00:01:44,000 --> 00:01:45,000\\n(Laughter) --\\n\\n31\\n00:01:45,000 --> 00:01:47,000\\nbut you\\'d get an automated reply.\\n\\n32\\n00:01:47,000 --> 00:01:49,000\\n(Laughter)\\n\\n33\\n00:01:49,000 --> 00:01:51,000\\nTheir name in your inbox\\n\\n34\\n00:01:51,000 --> 00:01:52,000\\n(Laughter) --\\n\\n35\\n00:01:52,000 --> 00:01:54,000\\nit\\'s all you wanted anyway.\\n\\n36\\n00:01:54,000 --> 00:01:57,000\\nAnd a message saying, \"Hey, it\\'s me. I miss you.\\n\\n37\\n00:01:57,000 --> 00:01:58,000\\n(Laughter)\\n\\n38\\n00:01:58,000 --> 00:02:01,000\\nListen, you\\'ll see being dead is dandy.\\n\\n39\\n00:02:01,000 --> 00:02:05,000\\nNow you go back to raising kids and waging peace and craving candy.\"\\n\\n40\\n00:02:05,000 --> 00:02:10,000\\nIf I designed the Internet, childhood.com would be a loop\\n\\n41\\n00:02:10,000 --> 00:02:15,000\\nof a boy in an orchard, with a ski pole for a sword,\\n\\n42\\n00:02:15,000 --> 00:02:18,000\\ntrashcan lid for a shield, shouting, \"I am the emperor of oranges.\\n\\n43\\n00:02:18,000 --> 00:02:21,000\\nI am the emperor of oranges. I am the emperor of oranges.\"\\n\\n44\\n00:02:21,000 --> 00:02:22,000\\nNow follow me, OK?\\n\\n45\\n00:02:22,000 --> 00:02:23,000\\n(Laughter)\\n\\n46\\n00:02:23,000 --> 00:02:26,000\\nGrandma.com would be a recipe for biscuits and spit-bath instructions.\\n\\n47\\n00:02:26,000 --> 00:02:28,000\\nOne, two, three.\\n\\n48\\n00:02:28,000 --> 00:02:30,000\\nThat links with hotdiggitydog.com.\\n\\n49\\n00:02:30,000 --> 00:02:32,000\\nThat is my grandfather.\\n\\n50\\n00:02:32,000 --> 00:02:34,000\\nThey take you to gruff-ex-cop-on-his-fourth-marriage.dad.\\n\\n51\\n00:02:34,000 --> 00:02:35,000\\nHe forms an attachment to\\n\\n52\\n00:02:35,000 --> 00:02:37,000\\nkind-of-ditzy-but-still-sends-ginger-snaps-for-Christmas.mom,\\n\\n53\\n00:02:37,000 --> 00:02:41,000\\nwho downloads the boy in the orchard, the emperor of oranges,\\n\\n54\\n00:02:41,000 --> 00:02:44,000\\nwho grows up to be me --\\n\\n55\\n00:02:44,000 --> 00:02:46,000\\nthe guy who usually goes too far.\\n\\n56\\n00:02:46,000 --> 00:02:49,000\\nSo if I were emperor of the Internet,\\n\\n57\\n00:02:49,000 --> 00:02:52,000\\nI guess I\\'d still be mortal, huh?\\n\\n58\\n00:02:52,000 --> 00:02:54,000\\nBut at that point, I would probably\\n\\n59\\n00:02:54,000 --> 00:02:58,000\\nalready have the lowest possible mortgage\\n\\n60\\n00:02:58,000 --> 00:03:00,000\\nand the most enlarged possible penis\\n\\n61\\n00:03:00,000 --> 00:03:01,000\\n(Laughter) --\\n\\n62\\n00:03:01,000 --> 00:03:03,000\\nso I would outlaw spam on my first day in office.\\n\\n63\\n00:03:03,000 --> 00:03:05,000\\nI wouldn\\'t need it.\\n\\n64\\n00:03:05,000 --> 00:03:07,000\\nI\\'d be like some kind of Internet genius, and me,\\n\\n65\\n00:03:07,000 --> 00:03:11,000\\nI\\'d like to upgrade to deity and maybe just like that --\\n\\n66\\n00:03:11,000 --> 00:03:14,000\\npop! -- I\\'d go wireless.\\n\\n67\\n00:03:14,000 --> 00:03:15,000\\n(Laughter)\\n\\n68\\n00:03:15,000 --> 00:03:17,000\\nHuh? Maybe Google would hire this.\\n\\n69\\n00:03:17,000 --> 00:03:19,000\\nI could zip through your servers and firewalls like a virus\\n\\n70\\n00:03:19,000 --> 00:03:23,000\\nuntil the World Wide Web is as wise, as wild and as organized\\n\\n71\\n00:03:23,000 --> 00:03:28,000\\nas I think a modern-day miracle/oracle can get, but, ooh-eee,\\n\\n72\\n00:03:28,000 --> 00:03:32,000\\nyou want to bet just how whack and un-PC\\n\\n73\\n00:03:32,000 --> 00:03:34,000\\nyour Mac or PC is going to be when I\\'m rocking\\n\\n74\\n00:03:34,000 --> 00:03:36,000\\nhot-shit-hot-shot-god.net?\\n\\n75\\n00:03:36,000 --> 00:03:38,000\\nI guess it\\'s just like life.\\n\\n76\\n00:03:38,000 --> 00:03:40,000\\nIt is not a question of if you can --\\n\\n77\\n00:03:40,000 --> 00:03:42,000\\nit\\'s: do ya?\\n\\n78\\n00:03:42,000 --> 00:03:44,000\\nWe can interfere with the interface.\\n\\n79\\n00:03:44,000 --> 00:03:47,000\\nWe can make \"You\\'ve got Hallelujah\" the national anthem of cyberspace\\n\\n80\\n00:03:47,000 --> 00:03:49,000\\nevery lucky time we log on.\\n\\n81\\n00:03:49,000 --> 00:03:51,000\\nYou don\\'t say a prayer.\\n\\n82\\n00:03:51,000 --> 00:03:53,000\\nYou don\\'t write a psalm.\\n\\n83\\n00:03:53,000 --> 00:03:55,000\\nYou don\\'t chant an \"om.\"\\n\\n84\\n00:03:55,000 --> 00:03:59,000\\nYou send one blessed email to whomever you\\'re thinking of\\n\\n85\\n00:03:59,000 --> 00:04:05,000\\nat dah-da-la-dat-da-dah-da-la-dat.com.\\n\\n86\\n00:04:05,000 --> 00:04:06,000\\nThank you, TED.\\n\\n87\\n00:04:06,000 --> 00:04:09,000\\n(Applause)'"
      ]
     },
     "execution_count": 5,
     "metadata": {},
     "output_type": "execute_result"
    }
   ],
   "source": [
    "captions = df['captions']\n",
    "captions.iloc[-1]"
   ]
  },
  {
   "cell_type": "markdown",
   "metadata": {},
   "source": [
    "Expectedly, the captions now are a complete mess. It's not just simple pretty text data, it's made up of scary numbered lines with time codes. That's something we have to deal with, and slicing seems to be a really helpful and simple solution."
   ]
  },
  {
   "cell_type": "code",
   "execution_count": 6,
   "metadata": {},
   "outputs": [],
   "source": [
    "def transform_captions(caption):\n",
    "    caption = caption.split(sep=\"\\n\")\n",
    "    caption = caption[::-4]\n",
    "    caption.reverse()\n",
    "    caption = ' '.join(caption)\n",
    "    return caption"
   ]
  },
  {
   "cell_type": "code",
   "execution_count": 7,
   "metadata": {
    "scrolled": false
   },
   "outputs": [
    {
     "name": "stdout",
     "output_type": "stream",
     "text": [
      "I wrote this poem after hearing a pretty well known actress tell a very well known interviewer on television, \"I'm really getting into the Internet lately. I just wish it were more organized.\" So ... (Laughter) If I controlled the Internet, you could auction your broken heart on eBay. Take the money; go to Amazon; buy a phonebook for a country you've never been to -- call folks at random until you find someone who flirts really well in a foreign language. (Laughter) If I were in charge of the Internet, you could Mapquest your lover's mood swings. Hang left at cranky, right at preoccupied, U-turn on silent treatment, all the way back to tongue kissing and good lovin'. You could navigate and understand every emotional intersection. Some days, I'm as shallow as a baking pan, but I still stretch miles in all directions. If I owned the Internet, Napster, Monster and Friendster.com would be one big website. That way you could listen to cool music while you pretend to look for a job and you're really just chattin' with your pals. (Laughter) Heck, if I ran the Web, you could email dead people. (Laughter) They would not email you back (Laughter) -- but you'd get an automated reply. (Laughter) Their name in your inbox (Laughter) -- it's all you wanted anyway. And a message saying, \"Hey, it's me. I miss you. (Laughter) Listen, you'll see being dead is dandy. Now you go back to raising kids and waging peace and craving candy.\" If I designed the Internet, childhood.com would be a loop of a boy in an orchard, with a ski pole for a sword, trashcan lid for a shield, shouting, \"I am the emperor of oranges. I am the emperor of oranges. I am the emperor of oranges.\" Now follow me, OK? (Laughter) Grandma.com would be a recipe for biscuits and spit-bath instructions. One, two, three. That links with hotdiggitydog.com. That is my grandfather. They take you to gruff-ex-cop-on-his-fourth-marriage.dad. He forms an attachment to kind-of-ditzy-but-still-sends-ginger-snaps-for-Christmas.mom, who downloads the boy in the orchard, the emperor of oranges, who grows up to be me -- the guy who usually goes too far. So if I were emperor of the Internet, I guess I'd still be mortal, huh? But at that point, I would probably already have the lowest possible mortgage and the most enlarged possible penis (Laughter) -- so I would outlaw spam on my first day in office. I wouldn't need it. I'd be like some kind of Internet genius, and me, I'd like to upgrade to deity and maybe just like that -- pop! -- I'd go wireless. (Laughter) Huh? Maybe Google would hire this. I could zip through your servers and firewalls like a virus until the World Wide Web is as wise, as wild and as organized as I think a modern-day miracle/oracle can get, but, ooh-eee, you want to bet just how whack and un-PC your Mac or PC is going to be when I'm rocking hot-shit-hot-shot-god.net? I guess it's just like life. It is not a question of if you can -- it's: do ya? We can interfere with the interface. We can make \"You've got Hallelujah\" the national anthem of cyberspace every lucky time we log on. You don't say a prayer. You don't write a psalm. You don't chant an \"om.\" You send one blessed email to whomever you're thinking of at dah-da-la-dat-da-dah-da-la-dat.com. Thank you, TED. (Applause)\n"
     ]
    }
   ],
   "source": [
    "captions = captions.apply(transform_captions)\n",
    "print(captions.iloc[-1])"
   ]
  },
  {
   "cell_type": "markdown",
   "metadata": {},
   "source": [
    "Well, now it looks like a normal edible text rather than that inconvenient thing with timestamps. We can replace our `captions` column in the dataframe with what we have now."
   ]
  },
  {
   "cell_type": "code",
   "execution_count": 8,
   "metadata": {},
   "outputs": [],
   "source": [
    "df['captions'] = captions"
   ]
  },
  {
   "cell_type": "markdown",
   "metadata": {},
   "source": [
    "## Video titles and speaker names\n",
    "The next step that I'd take is looking at the titles. Are they in an appropriate form? Of course they are not, that would be too simple."
   ]
  },
  {
   "cell_type": "code",
   "execution_count": 9,
   "metadata": {},
   "outputs": [],
   "source": [
    "df_temp = df.copy()"
   ]
  },
  {
   "cell_type": "code",
   "execution_count": 10,
   "metadata": {},
   "outputs": [
    {
     "name": "stdout",
     "output_type": "stream",
     "text": [
      "Your identity is your superpower | America Ferrera\n",
      "Documentary films that explore trauma -- and make space for healing | Almudena Toral\n",
      "A cleanse won't detox your body -- but here's what will | Body Stuff with Dr. Jen Gunter\n",
      "What should humans take to space (and leave behind)? | Jorge Mañes Rubio\n",
      "How to be a professional troublemaker | Luvvie Ajayi Jones\n",
      "The messy truth about grief | Nora McInerny\n",
      "What's normal anxiety -- and what's an anxiety disorder? | Body Stuff with Dr. Jen Gunter\n",
      "The infinite alchemy of storytelling | Zahra Al-Mahdi\n",
      "The rigged test of leadership | Sophie Williams\n",
      "How to heat your home without hurting the planet | Kathy Hannun\n"
     ]
    }
   ],
   "source": [
    "for i in range(10):\n",
    "    print(df_temp.iloc[i, 0])"
   ]
  },
  {
   "cell_type": "markdown",
   "metadata": {},
   "source": [
    "The problem with these titles is that they contain speakers' names along with the videos' \"names\". In order to have a clean and pretty dataset we're going to extract names into a separate column and remove them from our `title` column. That's where regular expressions come in handy."
   ]
  },
  {
   "cell_type": "code",
   "execution_count": 11,
   "metadata": {
    "scrolled": false
   },
   "outputs": [],
   "source": [
    "vertical_bar_names = df_temp['title'].str.extract(r'\\|\\s*(.+)$')"
   ]
  },
  {
   "cell_type": "markdown",
   "metadata": {},
   "source": [
    "Using the regular expression above we've extracted all symbols that were met after `|` symbol in our `title` column, since 10 most recent videos' titles are compiled in accordance with this scheme. Let's see if that's enough."
   ]
  },
  {
   "cell_type": "code",
   "execution_count": 12,
   "metadata": {},
   "outputs": [],
   "source": [
    "def count_extracted_names(speaker_series, df):\n",
    "    print(f\"Number of speaker names extracted: {speaker_series.notnull().sum().iloc[0]}/{df.shape[0]}\")"
   ]
  },
  {
   "cell_type": "code",
   "execution_count": 13,
   "metadata": {},
   "outputs": [
    {
     "name": "stdout",
     "output_type": "stream",
     "text": [
      "America Ferrera\n",
      "Almudena Toral\n",
      "Body Stuff with Dr. Jen Gunter\n",
      "Jorge Mañes Rubio\n",
      "Luvvie Ajayi Jones\n",
      "Nora McInerny\n",
      "Body Stuff with Dr. Jen Gunter\n",
      "Zahra Al-Mahdi\n",
      "Sophie Williams\n",
      "Kathy Hannun\n"
     ]
    }
   ],
   "source": [
    "for i in range(10):\n",
    "    print(vertical_bar_names[vertical_bar_names[0].notnull()].iloc[i, 0])"
   ]
  },
  {
   "cell_type": "code",
   "execution_count": 14,
   "metadata": {},
   "outputs": [
    {
     "name": "stdout",
     "output_type": "stream",
     "text": [
      "Number of speaker names extracted: 2126/3589\n"
     ]
    }
   ],
   "source": [
    "count_extracted_names(vertical_bar_names, df_temp)"
   ]
  },
  {
   "cell_type": "markdown",
   "metadata": {},
   "source": [
    "We have dealt with the most of video titles, but there are still many left. It means that not every video title corresponds to the form we have expected.  "
   ]
  },
  {
   "cell_type": "code",
   "execution_count": 15,
   "metadata": {},
   "outputs": [],
   "source": [
    "df_temp['speaker_name'] = vertical_bar_names\n",
    "df_temp = df_temp[df_temp['speaker_name'].isna()]"
   ]
  },
  {
   "cell_type": "code",
   "execution_count": 16,
   "metadata": {},
   "outputs": [
    {
     "name": "stdout",
     "output_type": "stream",
     "text": [
      "What foods did your ancestors love? Aparna Pallavi\n",
      "Dean Ornish: The world's killer diet\n",
      "Richard Baraniuk on open-source learning\n",
      "Wade Davis: Cultures at the far edge of the world\n",
      "Bjorn Lomborg: Global priorities bigger than climate change\n",
      "Phil Borges: Documenting our endangered cultures\n",
      "Peter Gabriel: Fighting injustice with a videocamera\n",
      "Robert Neuwirth: The \"shadow cities\" of the future\n",
      "Kevin Kelly: How technology evolves\n",
      "Peter Donnelly: How stats fool juries\n"
     ]
    }
   ],
   "source": [
    "for i in range(10):\n",
    "    print(df_temp[df_temp['speaker_name'].isna()].iloc[-i, 0])"
   ]
  },
  {
   "cell_type": "markdown",
   "metadata": {},
   "source": [
    "The situation is getting worse: we will need a more complicated regex to cope with those names that go at the beginning of the line. But at least we see that they are usually followed by a colon.\n",
    "\n",
    "Note the fact that we are going to apply next regex only to the rows from which we've failed to extract speaker names earlier. That is why we have created a temporary DataFrame `df_temp` and dropped the rows with non-null `speaker_name` values."
   ]
  },
  {
   "cell_type": "code",
   "execution_count": 17,
   "metadata": {},
   "outputs": [],
   "source": [
    "colon_names = df_temp['title'].str.extract(r'^((?:[A-Z]{1}[^:\\(\\)]+){1,}):.*$')"
   ]
  },
  {
   "cell_type": "code",
   "execution_count": 18,
   "metadata": {
    "scrolled": false
   },
   "outputs": [
    {
     "name": "stdout",
     "output_type": "stream",
     "text": [
      "Henry Lin\n",
      "Dean Ornish\n",
      "Wade Davis\n",
      "Bjorn Lomborg\n",
      "Phil Borges\n",
      "Peter Gabriel\n",
      "Robert Neuwirth\n",
      "Kevin Kelly\n",
      "Peter Donnelly\n",
      "Burt Rutan\n"
     ]
    }
   ],
   "source": [
    "for i in range(10):\n",
    "    print(colon_names[colon_names[0].notnull()].iloc[-i, 0])"
   ]
  },
  {
   "cell_type": "code",
   "execution_count": 19,
   "metadata": {},
   "outputs": [
    {
     "name": "stdout",
     "output_type": "stream",
     "text": [
      "Number of speaker names extracted: 1355/1463\n"
     ]
    }
   ],
   "source": [
    "count_extracted_names(colon_names, df_temp)"
   ]
  },
  {
   "cell_type": "code",
   "execution_count": 20,
   "metadata": {},
   "outputs": [],
   "source": [
    "df_temp['speaker_name'] = colon_names\n",
    "df_temp = df_temp[df_temp['speaker_name'].isna()]"
   ]
  },
  {
   "cell_type": "code",
   "execution_count": 21,
   "metadata": {
    "scrolled": false
   },
   "outputs": [
    {
     "name": "stdout",
     "output_type": "stream",
     "text": [
      "What foods did your ancestors love? Aparna Pallavi\n",
      "The path to ending systemic racism in the US\n",
      "Get TED Talks recommended just for you\n",
      "Visions of Africa's future, from African filmmakers\n",
      "The trauma of systematic racism is killing Black women. A first step toward change...\n",
      "The top 10 TED Talks of 2016\n",
      "Ideas worth dating\n",
      "Chimps have feelings and thoughts. They should also have rights\n",
      "TED, the Musical\n",
      "The interspecies Internet? An idea in progress...\n"
     ]
    }
   ],
   "source": [
    "for i in range(10):\n",
    "    print(df_temp.iloc[i, 0])"
   ]
  },
  {
   "cell_type": "markdown",
   "metadata": {},
   "source": [
    "Now that we are done with our so-called colon names, we can use an apostrophe after some other names as a break point. "
   ]
  },
  {
   "cell_type": "code",
   "execution_count": 22,
   "metadata": {},
   "outputs": [],
   "source": [
    "apostrophe_names = df_temp['title'].str.extract(r'^((?:[A-Z]{1}[-\\w.]+\\s?)+)\\'s?.*$')"
   ]
  },
  {
   "cell_type": "code",
   "execution_count": 23,
   "metadata": {},
   "outputs": [
    {
     "name": "stdout",
     "output_type": "stream",
     "text": [
      "Shimon Schocken\n",
      "Matthew Childs\n",
      "Ben Katchor\n",
      "Tom Shannon\n",
      "Nandan Nilekani\n",
      "Yves Behar\n",
      "Michelle Obama\n",
      "Liz Coleman\n",
      "Felix Dennis\n",
      "Paul Collier\n"
     ]
    }
   ],
   "source": [
    "for i in range(10):\n",
    "    print(apostrophe_names[apostrophe_names[0].notnull()].iloc[-i, 0])"
   ]
  },
  {
   "cell_type": "code",
   "execution_count": 24,
   "metadata": {},
   "outputs": [
    {
     "name": "stdout",
     "output_type": "stream",
     "text": [
      "Number of speaker names extracted: 21/108\n"
     ]
    }
   ],
   "source": [
    "count_extracted_names(apostrophe_names, df_temp)"
   ]
  },
  {
   "cell_type": "code",
   "execution_count": 25,
   "metadata": {},
   "outputs": [],
   "source": [
    "df_temp['speaker_name'] = apostrophe_names\n",
    "df_temp = df_temp[df_temp['speaker_name'].isna()]"
   ]
  },
  {
   "cell_type": "code",
   "execution_count": 26,
   "metadata": {},
   "outputs": [
    {
     "name": "stdout",
     "output_type": "stream",
     "text": [
      "iO Tillett Wright: Fifty shades of gay\n",
      "Lemon Andersen performs \"Please don't take my Air Jordans\"\n",
      "Boaz Almog \"levitates\" a superconductor\n",
      "Reggie Watts disorients you in the most entertaining way\n",
      "Morley sings \"Women of Hope\"\n",
      "Award-winning teen-age science in action\n",
      "What we learned from 5 million books\n",
      "Maya Beiser(s) and her cello(s)\n",
      "Damon Horowitz calls for a \"moral operating system\"\n",
      "Robert Gupta and Joshua Roman duet on \"Passacaglia\"\n"
     ]
    }
   ],
   "source": [
    "for i in range(10, 20):\n",
    "    print(df_temp.iloc[i, 0])"
   ]
  },
  {
   "cell_type": "markdown",
   "metadata": {},
   "source": [
    "It's time to deal with the names that are not followed by anything at all. These may bring some mistakes, since we do not have a clear break point. The capitalization is our means to differ names from anything else. However, we will be unable to capture one-word names because literally every first word in titles is going to be capitalized."
   ]
  },
  {
   "cell_type": "code",
   "execution_count": 27,
   "metadata": {},
   "outputs": [],
   "source": [
    "no_breakpoint_names = df_temp['title'].str.extract(r'^((?:[A-Z]{1}[-a-z.]+\\s?(?:and|with)?\\s?){2,}).*$')"
   ]
  },
  {
   "cell_type": "code",
   "execution_count": 28,
   "metadata": {},
   "outputs": [
    {
     "name": "stdout",
     "output_type": "stream",
     "text": [
      "Nalini Nadkarni \n",
      "Jacqueline Novogratz \n",
      "Bruce Bueno \n",
      "Alex Tabarrok \n",
      "Sean Gourley \n",
      "Mae Jemison \n",
      "Louise Fresco \n",
      "Jay Walker \n",
      "Kaki King \n",
      "Yann Arthus-Bertrand \n"
     ]
    }
   ],
   "source": [
    "for i in range(10, 20):\n",
    "    print(no_breakpoint_names[no_breakpoint_names[0].notnull()].iloc[-i, 0])"
   ]
  },
  {
   "cell_type": "code",
   "execution_count": 29,
   "metadata": {
    "scrolled": false
   },
   "outputs": [
    {
     "name": "stdout",
     "output_type": "stream",
     "text": [
      "Number of speaker names extracted: 68/87\n"
     ]
    }
   ],
   "source": [
    "count_extracted_names(no_breakpoint_names, df_temp)"
   ]
  },
  {
   "cell_type": "code",
   "execution_count": 30,
   "metadata": {},
   "outputs": [],
   "source": [
    "df_temp['speaker_name'] = no_breakpoint_names\n",
    "df_temp = df_temp[df_temp['speaker_name'].isna()]"
   ]
  },
  {
   "cell_type": "markdown",
   "metadata": {},
   "source": [
    "Look, we have only failed to extract 19 names out of 3589!  \n",
    "We can try to deal with them manually or just drop. In any case, we now need to gather up the new data in our good old `df` dataframe."
   ]
  },
  {
   "cell_type": "code",
   "execution_count": 31,
   "metadata": {},
   "outputs": [
    {
     "name": "stdout",
     "output_type": "stream",
     "text": [
      "252 What foods did your ancestors love? Aparna Pallavi\n",
      "287 The path to ending systemic racism in the US\n",
      "663 Get TED Talks recommended just for you\n",
      "938 Visions of Africa's future, from African filmmakers\n",
      "1238 The trauma of systematic racism is killing Black women. A first step toward change...\n",
      "1358 The top 10 TED Talks of 2016\n",
      "1470 Ideas worth dating\n",
      "1756 Chimps have feelings and thoughts. They should also have rights\n",
      "2026 TED, the Musical\n",
      "2191 The interspecies Internet? An idea in progress...\n",
      "2306 iO Tillett Wright: Fifty shades of gay\n",
      "2558 Morley sings \"Women of Hope\"\n",
      "2561 Award-winning teen-age science in action\n",
      "2629 What we learned from 5 million books\n",
      "2718 9/11 healing: The mothers who found forgiveness, friendship\n",
      "2957 Lies, damned lies and statistics (about TEDTalks)\n",
      "3133 The design genius of Charles + Ray Eames\n",
      "3164 Naturally 7 beatbox a whole band\n",
      "3195 Extreme wingsuit flying (The TEDTalk)\n"
     ]
    }
   ],
   "source": [
    "for i in df_temp.index:\n",
    "    print(i, df_temp.loc[i, 'title'])"
   ]
  },
  {
   "cell_type": "code",
   "execution_count": 32,
   "metadata": {},
   "outputs": [],
   "source": [
    "names_list = [vertical_bar_names, colon_names, apostrophe_names, no_breakpoint_names]\n",
    "\n",
    "for x in names_list:\n",
    "    x.dropna(inplace=True)\n",
    "    \n",
    "sp = pd.concat(names_list)\n",
    "df['speaker_name'] = sp"
   ]
  },
  {
   "cell_type": "code",
   "execution_count": 33,
   "metadata": {},
   "outputs": [],
   "source": [
    "df.loc[252, 'speaker_name'] = 'Aparna Pallavi'\n",
    "df.loc[2306, 'speaker_name'] = 'iO Tillett Wright'\n",
    "df.loc[2558, 'speaker_name'] = 'Morley'\n",
    "df.loc[3133, 'speaker_name'] = 'Charles + Ray Eames'"
   ]
  },
  {
   "cell_type": "code",
   "execution_count": 34,
   "metadata": {},
   "outputs": [
    {
     "data": {
      "text/plain": [
       "(3574, 13)"
      ]
     },
     "execution_count": 34,
     "metadata": {},
     "output_type": "execute_result"
    }
   ],
   "source": [
    "df = df[df['speaker_name'].notnull()]\n",
    "df.reset_index(drop=True, inplace=True)\n",
    "df.shape"
   ]
  },
  {
   "cell_type": "markdown",
   "metadata": {},
   "source": [
    "Let's not forget that we must also remove names we've extracted from the title column along with some special characters like `|+: ` and space characters. "
   ]
  },
  {
   "cell_type": "code",
   "execution_count": 35,
   "metadata": {},
   "outputs": [
    {
     "name": "stdout",
     "output_type": "stream",
     "text": [
      "0 Your identity is your superpower | America Ferrera\n",
      "1 Documentary films that explore trauma -- and make space for healing | Almudena Toral\n",
      "2 A cleanse won't detox your body -- but here's what will | Body Stuff with Dr. Jen Gunter\n",
      "3 What should humans take to space (and leave behind)? | Jorge Mañes Rubio\n",
      "4 How to be a professional troublemaker | Luvvie Ajayi Jones\n",
      "5 The messy truth about grief | Nora McInerny\n",
      "6 What's normal anxiety -- and what's an anxiety disorder? | Body Stuff with Dr. Jen Gunter\n",
      "7 The infinite alchemy of storytelling | Zahra Al-Mahdi\n",
      "8 The rigged test of leadership | Sophie Williams\n",
      "9 How to heat your home without hurting the planet | Kathy Hannun\n"
     ]
    }
   ],
   "source": [
    "for i in range(10):\n",
    "    print(i, df.loc[i, 'title'])"
   ]
  },
  {
   "cell_type": "code",
   "execution_count": 36,
   "metadata": {},
   "outputs": [],
   "source": [
    "unique_names = list(df.speaker_name.unique())\n",
    "unique_names = [x for x in unique_names if str(x) != 'nan']\n",
    "\n",
    "for name in unique_names:\n",
    "    df['title'] = df['title'].str.replace(name, '', regex=False) "
   ]
  },
  {
   "cell_type": "code",
   "execution_count": 37,
   "metadata": {},
   "outputs": [],
   "source": [
    "df['title'] = df['title'].str.replace(r'(\\||\\+|:)', '', regex=True)\n",
    "df['title'] = df['title'].str.replace(' ?\\(.*\\)', '', regex=True)\n",
    "\n",
    "df['title'] = df['title'].str.replace(r'^\\'s?\\s?', ' ', regex=True)\n",
    "\n",
    "df['title'] = df['title'].str.replace(r'\\s{2,}', ' ', regex=True)\n",
    "df['title'] = df['title'].str.replace(r'^\\s', '', regex=True)\n",
    "df['title'] = df['title'].str.replace(r'\\s$', '', regex=True)"
   ]
  },
  {
   "cell_type": "code",
   "execution_count": 38,
   "metadata": {},
   "outputs": [],
   "source": [
    "df['speaker_name'] = df['speaker_name'].str.replace(r'\\|? ted ?talks?', '', flags=re.IGNORECASE, regex=True)\n",
    "df['speaker_name'] = df['speaker_name'].str.replace(r'(?: with| and | \\+)', ',', regex=True)\n",
    "df['speaker_name'] = df['speaker_name'].str.replace(r'(?:\\(|\\))', '', regex=True)"
   ]
  },
  {
   "cell_type": "code",
   "execution_count": 39,
   "metadata": {},
   "outputs": [
    {
     "name": "stdout",
     "output_type": "stream",
     "text": [
      "3133 \"Success is a continuous journey\"\n",
      "3134 Learning from the gecko's tail\n",
      "3135 plugs smart power outlets\n",
      "3136 invents eco-friendly drywall\n",
      "3137 on the world in 2200\n",
      "3138 odes to vice and consequences\n",
      "3139 captures fragile Earth in wide-angle\n",
      "3140 A university for the coming singularity\n",
      "3141 call to reinvent liberal arts education\n",
      "3142 rocks out to \"Playing with Pink Noise\"\n"
     ]
    }
   ],
   "source": [
    "for i in range(3133, 3143):\n",
    "    print(i, df.loc[i, 'title'])"
   ]
  },
  {
   "cell_type": "markdown",
   "metadata": {
    "scrolled": false
   },
   "source": [
    "Now we are officially done with speaker names and titles. And it means that it's time to move on to the next issue."
   ]
  },
  {
   "cell_type": "markdown",
   "metadata": {},
   "source": [
    "## Transcribers and reviewers\n",
    "\n",
    "That is a small task that requires a bit more work with subtitles. There's some information about those who transcribed and rewieved the subtitles right inside the `captions` column. It is pretty improbable that we will make a good use of it, but let's extract this data just to be nice (and to have a detailed and thorough dataset).  \n",
    "\n",
    "I think that it's easier to open a file with raw captions once again so as to have end-of-line symbols that are pretty useful for us now."
   ]
  },
  {
   "cell_type": "code",
   "execution_count": 40,
   "metadata": {},
   "outputs": [],
   "source": [
    "raw = pd.read_csv(\"./data/temp/raw_captions.csv\", index_col='Unnamed: 0')\n",
    "raw.rename(columns = {'0': 'captions'}, inplace = True)"
   ]
  },
  {
   "cell_type": "code",
   "execution_count": 41,
   "metadata": {},
   "outputs": [],
   "source": [
    "transcriber = raw['captions'].str.extract(r'Transcriber: ?(.+)(?:Reviewer:.*)\\n', flags=re.IGNORECASE)\n",
    "reviewer = raw['captions'].str.extract(r'Transcriber:.+Reviewer: ?(.+)\\n', flags=re.IGNORECASE)"
   ]
  },
  {
   "cell_type": "code",
   "execution_count": 42,
   "metadata": {},
   "outputs": [
    {
     "data": {
      "text/plain": [
       "((148, 1), (148, 1))"
      ]
     },
     "execution_count": 42,
     "metadata": {},
     "output_type": "execute_result"
    }
   ],
   "source": [
    "transcriber[transcriber[0].notnull()].shape, reviewer[reviewer[0].notnull()].shape"
   ]
  },
  {
   "cell_type": "code",
   "execution_count": 43,
   "metadata": {},
   "outputs": [],
   "source": [
    "df['transcriber'] = transcriber\n",
    "df['reviewer'] = reviewer"
   ]
  },
  {
   "cell_type": "code",
   "execution_count": 44,
   "metadata": {},
   "outputs": [
    {
     "data": {
      "text/plain": [
       "(nan, nan)"
      ]
     },
     "execution_count": 44,
     "metadata": {},
     "output_type": "execute_result"
    }
   ],
   "source": [
    "unique_transcribers = list(transcriber[0].unique())\n",
    "unique_reviewers = list(reviewer[0].unique())\n",
    "unique_transcribers.reverse(), unique_reviewers.reverse()\n",
    "unique_transcribers.pop(), unique_reviewers.pop()"
   ]
  },
  {
   "cell_type": "code",
   "execution_count": 45,
   "metadata": {},
   "outputs": [],
   "source": [
    "df['captions'] = df['captions'].str.replace('Transcriber:', '', flags=re.IGNORECASE)\n",
    "df['captions'] = df['captions'].str.replace('Reviewer:', '', flags=re.IGNORECASE)\n",
    "for name in unique_transcribers:\n",
    "    df['captions'] = df['captions'].str.replace(name, '')\n",
    "for name in unique_reviewers:\n",
    "    df['captions'] = df['captions'].str.replace(name, '')"
   ]
  },
  {
   "cell_type": "code",
   "execution_count": 46,
   "metadata": {},
   "outputs": [
    {
     "data": {
      "text/html": [
       "<div>\n",
       "<style scoped>\n",
       "    .dataframe tbody tr th:only-of-type {\n",
       "        vertical-align: middle;\n",
       "    }\n",
       "\n",
       "    .dataframe tbody tr th {\n",
       "        vertical-align: top;\n",
       "    }\n",
       "\n",
       "    .dataframe thead th {\n",
       "        text-align: right;\n",
       "    }\n",
       "</style>\n",
       "<table border=\"1\" class=\"dataframe\">\n",
       "  <thead>\n",
       "    <tr style=\"text-align: right;\">\n",
       "      <th></th>\n",
       "      <th>title</th>\n",
       "      <th>transcriber</th>\n",
       "      <th>reviewer</th>\n",
       "    </tr>\n",
       "  </thead>\n",
       "  <tbody>\n",
       "    <tr>\n",
       "      <th>103</th>\n",
       "      <td>The joy of shopping -- and how to recapture it...</td>\n",
       "      <td>Leslie Gauthier</td>\n",
       "      <td>Joanna Pietrulewicz</td>\n",
       "    </tr>\n",
       "    <tr>\n",
       "      <th>104</th>\n",
       "      <td>Community-powered solutions to the climate crisis</td>\n",
       "      <td>TED Translators Admin</td>\n",
       "      <td>Mirjana Čutura</td>\n",
       "    </tr>\n",
       "    <tr>\n",
       "      <th>105</th>\n",
       "      <td>How your brain responds to stories -- and why ...</td>\n",
       "      <td>Ivana Korom</td>\n",
       "      <td>Joanna Pietrulewicz</td>\n",
       "    </tr>\n",
       "    <tr>\n",
       "      <th>106</th>\n",
       "      <td>How a strong creative industry helps economies...</td>\n",
       "      <td>Joseph Geni</td>\n",
       "      <td>Camille Martínez</td>\n",
       "    </tr>\n",
       "    <tr>\n",
       "      <th>107</th>\n",
       "      <td>4 tips to kickstart honest conversations at work</td>\n",
       "      <td>Leslie Gauthier</td>\n",
       "      <td>Joanna Pietrulewicz</td>\n",
       "    </tr>\n",
       "  </tbody>\n",
       "</table>\n",
       "</div>"
      ],
      "text/plain": [
       "                                                 title  \\\n",
       "103  The joy of shopping -- and how to recapture it...   \n",
       "104  Community-powered solutions to the climate crisis   \n",
       "105  How your brain responds to stories -- and why ...   \n",
       "106  How a strong creative industry helps economies...   \n",
       "107   4 tips to kickstart honest conversations at work   \n",
       "\n",
       "                transcriber             reviewer  \n",
       "103        Leslie Gauthier   Joanna Pietrulewicz  \n",
       "104  TED Translators Admin        Mirjana Čutura  \n",
       "105            Ivana Korom   Joanna Pietrulewicz  \n",
       "106            Joseph Geni      Camille Martínez  \n",
       "107        Leslie Gauthier   Joanna Pietrulewicz  "
      ]
     },
     "execution_count": 46,
     "metadata": {},
     "output_type": "execute_result"
    }
   ],
   "source": [
    "df.iloc[103:108, [0, 13, 14]]"
   ]
  },
  {
   "cell_type": "markdown",
   "metadata": {},
   "source": [
    "## Working with descriptions\n",
    "\n",
    "Now it's time for some tedious regular expression work with video descriptions. As you can see below, the descriptions contain many chunks of information that are either non-unique or just are not related to the topic of the video directly. "
   ]
  },
  {
   "cell_type": "code",
   "execution_count": 47,
   "metadata": {
    "scrolled": false
   },
   "outputs": [
    {
     "name": "stdout",
     "output_type": "stream",
     "text": [
      "Watch the full talk: http://tedtalks.social/superpower\n",
      "\n",
      "A clip from America Ferrera's TED Talk \"My identity is a superpower -- not an obstacle\" from TED2019\n",
      "\n",
      "Hollywood needs to stop resisting what the world actually looks like, says actor, director and activist America Ferrera. Tracing the contours of her career, she calls for more authentic representation of different cultures in media -- and a shift in how we tell our stories. \"Presence creates possibility,\" she says. \"Who we see thriving in the world teaches us how to see ourselves, how to think about our own value, how to dream about our futures.\"\n",
      "\n",
      "The TED Talks channel features the best talks and performances from the TED Conference, where the world's leading thinkers and doers give the talk of their lives in 18 minutes (or less). Look for talks on Technology, Entertainment and Design -- plus science, business, global issues, the arts and more. You're welcome to link to or embed these videos, forward them to others and share these ideas with people you know. \n",
      "\n",
      "Become a TED Member: http://ted.com/membership\n",
      "Follow TED on Twitter: http://twitter.com/TEDTalks\n",
      "Like TED on Facebook: http://facebook.com/TED\n",
      "Subscribe to our channel: http://youtube.com/TED\n",
      "\n",
      "TED's videos may be used for non-commercial purposes under a Creative Commons License, Attribution–Non Commercial–No Derivatives (or the CC BY – NC – ND 4.0 International) and in accordance with our TED Talks Usage Policy (https://www.ted.com/about/our-organization/our-policies-terms/ted-talks-usage-policy). For more information on using TED for commercial purposes (e.g. employee learning, in a film or online course), please submit a Media Request at https://media-requests.ted.com\n",
      "\n",
      "--------------------------\n",
      "\n",
      "Visit http://TED.com/shapeyourfuture to watch more groundbreaking talks from the TED Fellows.\n",
      "\n",
      "Through documentary films following survivors of trauma, TED Fellow Almudena Toral makes invisible psychological scars seen. She shares the heartbreaking story of Adayanci Pérez, a six-year-old girl from Guatemala suffering from post-traumatic stress disorder (PTSD) due to her encounter with US immigration enforcement. A powerful call to give voice to those who are silenced -- and pressure governments to change their course of action.\n",
      "\n",
      "The TED Talks channel features the best talks and performances from the TED Conference, where the world's leading thinkers and doers give the talk of their lives in 18 minutes (or less). Look for talks on Technology, Entertainment and Design -- plus science, business, global issues, the arts and more. You're welcome to link to or embed these videos, forward them to others and share these ideas with people you know. \n",
      "\n",
      "Become a TED Member: http://ted.com/membership\n",
      "Follow TED on Twitter: http://twitter.com/TEDTalks\n",
      "Like TED on Facebook: http://facebook.com/TED\n",
      "Subscribe to our channel: http://youtube.com/TED\n",
      "\n",
      "TED's videos may be used for non-commercial purposes under a Creative Commons License, Attribution–Non Commercial–No Derivatives (or the CC BY – NC – ND 4.0 International) and in accordance with our TED Talks Usage Policy (https://www.ted.com/about/our-organization/our-policies-terms/ted-talks-usage-policy). For more information on using TED for commercial purposes (e.g. employee learning, in a film or online course), please submit a Media Request at https://media-requests.ted.com\n",
      "\n",
      "--------------------------\n",
      "\n",
      "Put down the cayenne-lemon water and step away from the herbal tea. Cleanses and detox products like these don't remove toxins, says Dr. Jen Gunter, and some of them may even be hurting your health. Learn how your body rids itself of harmful substances and what you can do to keep this system running smoothly. \n",
      "\n",
      "Think you know how your body works? Think again! Dr. Jen Gunter is here to shake up everything you thought you knew -- from how much water you need to drink to how often you need to poop and everything in between. This TED original series will tell you the truth about what's *really* going on inside you. (Made possible with the support of Oura)\n",
      "\n",
      "Want to hear more from Dr. Jen Gunter? Follow Body Stuff on Apple Podcasts: https://link.chtbl.com/BodyStuffYT\n",
      "\n",
      "--------------------------\n",
      "\n"
     ]
    }
   ],
   "source": [
    "for i in range(3):\n",
    "    print(df.iloc[i, 1])\n",
    "    print(\"\\n--------------------------\\n\")"
   ]
  },
  {
   "cell_type": "code",
   "execution_count": 48,
   "metadata": {},
   "outputs": [],
   "source": [
    "df_checkpoint = df.copy()"
   ]
  },
  {
   "cell_type": "markdown",
   "metadata": {},
   "source": [
    "Here we should take a look at different variations of paragraphs that are useless for us and create some regexes in order to delete them from our dataset. "
   ]
  },
  {
   "cell_type": "code",
   "execution_count": 49,
   "metadata": {},
   "outputs": [],
   "source": [
    "df['description'] = df['description'].str.replace(r'Visit http://TED\\.com[^\\n\\n]*', '', \\\n",
    "                                                  flags=re.IGNORECASE, regex=True)\n",
    "df['description'] = df['description'].str.replace(r'TEDTalks is a daily video podcast [^\\n\\n]*', '', \\\n",
    "                                                  flags=re.IGNORECASE, regex=True)\n",
    "df['description'] = df['description'].str.replace(r'[^\\n\\n]*TED Talks channel features [^\\n\\n]*', '', \\\n",
    "                                                  flags=re.IGNORECASE, regex=True)\n",
    "df['description'] = df['description'].str.replace(r'note: comments [^\\n\\n]*', '', \\\n",
    "                                                  flags=re.IGNORECASE, regex=True)\n",
    "df['description'] = df['description'].str.replace(r'[^\\n\\n]* CC button [^\\n\\n]*', '', regex=True)\n",
    "df['description'] = df['description'].str.replace(r'[^\\n\\n]*Watch the full talk[^\\n\\n]*', '', regex=True)\n",
    "df['description'] = df['description'].str.replace('http://www.ted.com', '', regex=False)\n",
    "df['description'] = df['description'].str.replace(r'[^\\n]*https?://[^\\n]*', '', regex=True)\n",
    "df['description'] = df['description'].str.replace(r'[^\\n]*\\d{1,2}:\\d{2}[^\\n]*', '', regex=True)\n",
    "df['description'] = df['description'].str.replace(r'[^\\n]*A clip from[^\\n]*', '', regex=True)\n",
    "df['description'] = df['description'].str.replace(r'[^\\n]*Think you know how your body works?[^\\n]*', '', regex=True)\n",
    "df['description'] = df['description'].str.replace(r'Find closed captions [^\\n\\n]*', '', regex=True)\n",
    "df['description'] = df['description'].str.replace(r'\\(?NOTE [^\\n\\n]*', '', \\\n",
    "                                                  flags=re.IGNORECASE, regex=True)\n",
    "df['description'] = df['description'].str.replace('Take action on climate change at http://countdown.ted.com.', '', \\\n",
    "                                                  flags=re.IGNORECASE, regex=False)\n",
    "df['description'] = df['description'].str.replace('Check out more TED Talks:', '', \\\n",
    "                                                  regex=False, flags=re.IGNORECASE)\n",
    "df['description'] = df['description'].str.replace('/index.php/talks/top10', '', \\\n",
    "                                                  regex=False, flags=re.IGNORECASE)\n",
    "df['description'] = df['description'].str.replace('www.ted.com', '', \\\n",
    "                                                  regex=False, flags=re.IGNORECASE)"
   ]
  },
  {
   "cell_type": "markdown",
   "metadata": {},
   "source": [
    "We would also like to perform some operations with repetitive spaces and new-line symbols, or those that go in the end or beginning.  \n",
    "It will make our data clearer."
   ]
  },
  {
   "cell_type": "code",
   "execution_count": 50,
   "metadata": {},
   "outputs": [],
   "source": [
    "columns = ['speaker_name', 'transcriber', 'reviewer', 'captions', 'description']\n",
    "\n",
    "for col in columns:\n",
    "    df[col] = df[col].str.replace('\\n{2,}', '\\n', regex=True)\n",
    "    df[col] = df[col].str.replace('\\n+$', '', regex=True)\n",
    "    df[col] = df[col].str.replace('^\\n+', '', regex=True)\n",
    "    df[col] = df[col].str.replace('\\s{2,}', ' ', regex=True)\n",
    "    df[col] = df[col].str.replace('^\\s', '', regex=True)\n",
    "    df[col] = df[col].str.replace('\\s$', '', regex=True)"
   ]
  },
  {
   "cell_type": "code",
   "execution_count": 51,
   "metadata": {
    "scrolled": false
   },
   "outputs": [
    {
     "name": "stdout",
     "output_type": "stream",
     "text": [
      "Hollywood needs to stop resisting what the world actually looks like, says actor, director and activist America Ferrera. Tracing the contours of her career, she calls for more authentic representation of different cultures in media -- and a shift in how we tell our stories. \"Presence creates possibility,\" she says. \"Who we see thriving in the world teaches us how to see ourselves, how to think about our own value, how to dream about our futures.\"\n",
      "\n",
      "--------------------------\n",
      "\n",
      "Through documentary films following survivors of trauma, TED Fellow Almudena Toral makes invisible psychological scars seen. She shares the heartbreaking story of Adayanci Pérez, a six-year-old girl from Guatemala suffering from post-traumatic stress disorder (PTSD) due to her encounter with US immigration enforcement. A powerful call to give voice to those who are silenced -- and pressure governments to change their course of action.\n",
      "\n",
      "--------------------------\n",
      "\n",
      "Put down the cayenne-lemon water and step away from the herbal tea. Cleanses and detox products like these don't remove toxins, says Dr. Jen Gunter, and some of them may even be hurting your health. Learn how your body rids itself of harmful substances and what you can do to keep this system running smoothly.\n",
      "\n",
      "--------------------------\n",
      "\n"
     ]
    }
   ],
   "source": [
    "for i in range(3):\n",
    "    print(df.iloc[i, 1])\n",
    "    print(\"\\n--------------------------\\n\")"
   ]
  },
  {
   "cell_type": "markdown",
   "metadata": {},
   "source": [
    "Here are the results of our work! Now the descriptions look informative and tidy."
   ]
  },
  {
   "cell_type": "markdown",
   "metadata": {},
   "source": [
    "## Extracting date and time\n",
    "\n",
    "We are also going to do something with our `published_at` column to make it easier to work with."
   ]
  },
  {
   "cell_type": "code",
   "execution_count": 52,
   "metadata": {},
   "outputs": [
    {
     "data": {
      "text/plain": [
       "('2021-07-10T14:00:12Z', '2012-06-19T18:00:04Z')"
      ]
     },
     "execution_count": 52,
     "metadata": {},
     "output_type": "execute_result"
    }
   ],
   "source": [
    "df.published_at[0], df.published_at[2442]"
   ]
  },
  {
   "cell_type": "markdown",
   "metadata": {},
   "source": [
    "Fortunately, date and time of video publication are presented in a constant form, which means that regexes will save our time and sanity once again."
   ]
  },
  {
   "cell_type": "code",
   "execution_count": 53,
   "metadata": {},
   "outputs": [],
   "source": [
    "datetime_r = r\"^(\\d{4})-(\\d{2})-(\\d{2})T(\\d{2}):(\\d{2}):\\d{2}Z$\"\n",
    "date_time = df['published_at'].str.extract(datetime_r)"
   ]
  },
  {
   "cell_type": "code",
   "execution_count": 54,
   "metadata": {},
   "outputs": [],
   "source": [
    "date_time.rename(columns={0:'year', 1:'month', 2:'day', 3:'hour', 4:'minute'}, inplace=True)\n",
    "df = pd.concat([df, date_time], axis=1)\n",
    "df.drop(columns='published_at', inplace=True)"
   ]
  },
  {
   "cell_type": "code",
   "execution_count": 55,
   "metadata": {},
   "outputs": [
    {
     "data": {
      "text/html": [
       "<div>\n",
       "<style scoped>\n",
       "    .dataframe tbody tr th:only-of-type {\n",
       "        vertical-align: middle;\n",
       "    }\n",
       "\n",
       "    .dataframe tbody tr th {\n",
       "        vertical-align: top;\n",
       "    }\n",
       "\n",
       "    .dataframe thead th {\n",
       "        text-align: right;\n",
       "    }\n",
       "</style>\n",
       "<table border=\"1\" class=\"dataframe\">\n",
       "  <thead>\n",
       "    <tr style=\"text-align: right;\">\n",
       "      <th></th>\n",
       "      <th>title</th>\n",
       "      <th>year</th>\n",
       "      <th>month</th>\n",
       "      <th>day</th>\n",
       "      <th>hour</th>\n",
       "      <th>minute</th>\n",
       "    </tr>\n",
       "  </thead>\n",
       "  <tbody>\n",
       "    <tr>\n",
       "      <th>0</th>\n",
       "      <td>Your identity is your superpower</td>\n",
       "      <td>2021</td>\n",
       "      <td>07</td>\n",
       "      <td>10</td>\n",
       "      <td>14</td>\n",
       "      <td>00</td>\n",
       "    </tr>\n",
       "    <tr>\n",
       "      <th>1</th>\n",
       "      <td>Documentary films that explore trauma -- and m...</td>\n",
       "      <td>2021</td>\n",
       "      <td>07</td>\n",
       "      <td>09</td>\n",
       "      <td>15</td>\n",
       "      <td>30</td>\n",
       "    </tr>\n",
       "    <tr>\n",
       "      <th>2</th>\n",
       "      <td>A cleanse won't detox your body -- but here's ...</td>\n",
       "      <td>2021</td>\n",
       "      <td>07</td>\n",
       "      <td>08</td>\n",
       "      <td>15</td>\n",
       "      <td>15</td>\n",
       "    </tr>\n",
       "  </tbody>\n",
       "</table>\n",
       "</div>"
      ],
      "text/plain": [
       "                                               title  year month day hour  \\\n",
       "0                   Your identity is your superpower  2021    07  10   14   \n",
       "1  Documentary films that explore trauma -- and m...  2021    07  09   15   \n",
       "2  A cleanse won't detox your body -- but here's ...  2021    07  08   15   \n",
       "\n",
       "  minute  \n",
       "0     00  \n",
       "1     30  \n",
       "2     15  "
      ]
     },
     "execution_count": 55,
     "metadata": {},
     "output_type": "execute_result"
    }
   ],
   "source": [
    "df.iloc[:3, [0, 14, 15, 16, 17, 18]]"
   ]
  },
  {
   "cell_type": "markdown",
   "metadata": {},
   "source": [
    "This is it, really simple after everything we have done previously."
   ]
  },
  {
   "cell_type": "markdown",
   "metadata": {},
   "source": [
    "## Json conversion\n",
    "\n",
    "The last thing to do today is going to be some tags work. But right before that we need to transform our Pandas DataFrame into a .json object so as to preserve the dictionary structure of the data."
   ]
  },
  {
   "cell_type": "code",
   "execution_count": 56,
   "metadata": {},
   "outputs": [],
   "source": [
    "df = df[['video_id', 'channel_id', 'title', 'speaker_name', 'year', 'month', 'day', 'hour', 'minute', 'description', \\\n",
    "         'thumbnail', 'captions', 'transcriber', 'reviewer', 'views', 'likes', 'dislikes', 'comments_count', 'tags']]"
   ]
  },
  {
   "cell_type": "code",
   "execution_count": 57,
   "metadata": {},
   "outputs": [],
   "source": [
    "df.to_csv('./data/videos_cleansed.csv')\n",
    "utils.upload_to_googledrive('videos_cleansed.csv')"
   ]
  },
  {
   "cell_type": "code",
   "execution_count": 58,
   "metadata": {},
   "outputs": [],
   "source": [
    "data_json = df.to_json(orient=\"records\")\n",
    "data_json = json.loads(data_json)"
   ]
  },
  {
   "cell_type": "code",
   "execution_count": 59,
   "metadata": {},
   "outputs": [
    {
     "data": {
      "text/html": [
       "<div>\n",
       "<style scoped>\n",
       "    .dataframe tbody tr th:only-of-type {\n",
       "        vertical-align: middle;\n",
       "    }\n",
       "\n",
       "    .dataframe tbody tr th {\n",
       "        vertical-align: top;\n",
       "    }\n",
       "\n",
       "    .dataframe thead th {\n",
       "        text-align: right;\n",
       "    }\n",
       "</style>\n",
       "<table border=\"1\" class=\"dataframe\">\n",
       "  <thead>\n",
       "    <tr style=\"text-align: right;\">\n",
       "      <th></th>\n",
       "      <th>video_id</th>\n",
       "      <th>channel_id</th>\n",
       "      <th>title</th>\n",
       "      <th>speaker_name</th>\n",
       "      <th>year</th>\n",
       "      <th>month</th>\n",
       "      <th>day</th>\n",
       "      <th>hour</th>\n",
       "      <th>minute</th>\n",
       "      <th>description</th>\n",
       "      <th>thumbnail</th>\n",
       "      <th>captions</th>\n",
       "      <th>transcriber</th>\n",
       "      <th>reviewer</th>\n",
       "      <th>views</th>\n",
       "      <th>likes</th>\n",
       "      <th>dislikes</th>\n",
       "      <th>comments_count</th>\n",
       "      <th>tags</th>\n",
       "    </tr>\n",
       "  </thead>\n",
       "  <tbody>\n",
       "    <tr>\n",
       "      <th>3572</th>\n",
       "      <td>Y6bbMQXQ180</td>\n",
       "      <td>UCAuUUnT6oDeKwE6v1NGQxug</td>\n",
       "      <td>Secrets of success in 8 words, 3 minutes</td>\n",
       "      <td>Richard St. John</td>\n",
       "      <td>2007</td>\n",
       "      <td>01</td>\n",
       "      <td>06</td>\n",
       "      <td>19</td>\n",
       "      <td>53</td>\n",
       "      <td>Why do people succeed? Is it because they're s...</td>\n",
       "      <td>https://i.ytimg.com/vi/Y6bbMQXQ180/default.jpg</td>\n",
       "      <td>This is really a two-hour presentation I give ...</td>\n",
       "      <td>None</td>\n",
       "      <td>None</td>\n",
       "      <td>2767300</td>\n",
       "      <td>39311.0</td>\n",
       "      <td>635.0</td>\n",
       "      <td>645.0</td>\n",
       "      <td>['Richard St. John', 'Richard John', 'TED', 'T...</td>\n",
       "    </tr>\n",
       "    <tr>\n",
       "      <th>3573</th>\n",
       "      <td>gu_PQBmk-6c</td>\n",
       "      <td>UCAuUUnT6oDeKwE6v1NGQxug</td>\n",
       "      <td>If I controlled the Internet</td>\n",
       "      <td>Rives</td>\n",
       "      <td>2006</td>\n",
       "      <td>12</td>\n",
       "      <td>25</td>\n",
       "      <td>17</td>\n",
       "      <td>58</td>\n",
       "      <td>How many poets could cram eBay, Friendster and...</td>\n",
       "      <td>https://i.ytimg.com/vi/gu_PQBmk-6c/default.jpg</td>\n",
       "      <td>I wrote this poem after hearing a pretty well ...</td>\n",
       "      <td>None</td>\n",
       "      <td>None</td>\n",
       "      <td>351573</td>\n",
       "      <td>3362.0</td>\n",
       "      <td>174.0</td>\n",
       "      <td>362.0</td>\n",
       "      <td>['Rives', 'TED', 'TEDTalks', 'talks', 'spoken ...</td>\n",
       "    </tr>\n",
       "  </tbody>\n",
       "</table>\n",
       "</div>"
      ],
      "text/plain": [
       "         video_id                channel_id  \\\n",
       "3572  Y6bbMQXQ180  UCAuUUnT6oDeKwE6v1NGQxug   \n",
       "3573  gu_PQBmk-6c  UCAuUUnT6oDeKwE6v1NGQxug   \n",
       "\n",
       "                                         title      speaker_name  year month  \\\n",
       "3572  Secrets of success in 8 words, 3 minutes  Richard St. John  2007    01   \n",
       "3573              If I controlled the Internet             Rives  2006    12   \n",
       "\n",
       "     day hour minute                                        description  \\\n",
       "3572  06   19     53  Why do people succeed? Is it because they're s...   \n",
       "3573  25   17     58  How many poets could cram eBay, Friendster and...   \n",
       "\n",
       "                                           thumbnail  \\\n",
       "3572  https://i.ytimg.com/vi/Y6bbMQXQ180/default.jpg   \n",
       "3573  https://i.ytimg.com/vi/gu_PQBmk-6c/default.jpg   \n",
       "\n",
       "                                               captions transcriber reviewer  \\\n",
       "3572  This is really a two-hour presentation I give ...        None     None   \n",
       "3573  I wrote this poem after hearing a pretty well ...        None     None   \n",
       "\n",
       "        views    likes  dislikes  comments_count  \\\n",
       "3572  2767300  39311.0     635.0           645.0   \n",
       "3573   351573   3362.0     174.0           362.0   \n",
       "\n",
       "                                                   tags  \n",
       "3572  ['Richard St. John', 'Richard John', 'TED', 'T...  \n",
       "3573  ['Rives', 'TED', 'TEDTalks', 'talks', 'spoken ...  "
      ]
     },
     "execution_count": 59,
     "metadata": {},
     "output_type": "execute_result"
    }
   ],
   "source": [
    "pd.json_normalize(data_json, max_level=0).tail(2)"
   ]
  },
  {
   "cell_type": "markdown",
   "metadata": {},
   "source": [
    "By the way, we are still able to normalize our json object back to a dataframe for better visibility (if we need)."
   ]
  },
  {
   "cell_type": "markdown",
   "metadata": {},
   "source": [
    "## Tag labelling\n",
    "\n",
    "Finally, it's time to make dictionaries out of our tags. These dictionaries will contain not only tags themselves, but their types as well. Tags that contain something about \"ted talks\" will be labeled as garbage as they don't actually tell us anything important about the video, and tags that contain names of the speakers will be labeled as \"name\" tags."
   ]
  },
  {
   "cell_type": "code",
   "execution_count": 60,
   "metadata": {},
   "outputs": [],
   "source": [
    "all_tags = []\n",
    "\n",
    "for i in range(df.shape[0]):\n",
    "    tags = data_json[i]['tags'].strip('\\'][').split('\\', \\'')\n",
    "    tags_list = []\n",
    "    full_name = (data_json[i]['speaker_name']).split()\n",
    "    \n",
    "    for tag in tags:\n",
    "        \n",
    "        any_ted = re.findall(r'.*ted.*', tag, re.IGNORECASE)\n",
    "        any_talk = re.findall(r'.*talks?.*', tag, re.IGNORECASE)\n",
    "        \n",
    "        tag_type = 'normal'\n",
    "\n",
    "        if (len(any_ted) != 0) | (len(any_talk) != 0):\n",
    "            tag_type = 'garbage'    \n",
    "        else: \n",
    "            for name in full_name:\n",
    "                any_name = re.findall(name, tag)\n",
    "                if (len(any_name) != 0):\n",
    "                    tag_type = 'name'                \n",
    "        \n",
    "        tag_dict = {'tag': tag, 'type': tag_type}\n",
    "        tags_list.append(tag_dict)\n",
    "        \n",
    "    all_tags.append(tags_list)"
   ]
  },
  {
   "cell_type": "code",
   "execution_count": 61,
   "metadata": {},
   "outputs": [],
   "source": [
    "for i in range(len(all_tags)):\n",
    "    data_json[i]['tags'] = all_tags[i]"
   ]
  },
  {
   "cell_type": "code",
   "execution_count": 62,
   "metadata": {},
   "outputs": [
    {
     "name": "stdout",
     "output_type": "stream",
     "text": [
      "Maira Kalman, 'The illustrated woman'\n"
     ]
    },
    {
     "data": {
      "text/plain": [
       "[{'tag': 'Maira', 'type': 'name'},\n",
       " {'tag': 'Kalman', 'type': 'name'},\n",
       " {'tag': 'TED', 'type': 'garbage'},\n",
       " {'tag': 'TEDTalks', 'type': 'garbage'},\n",
       " {'tag': 'Talks', 'type': 'garbage'},\n",
       " {'tag': 'The New Yorker', 'type': 'normal'},\n",
       " {'tag': 'illustration', 'type': 'normal'},\n",
       " {'tag': 'imagination', 'type': 'normal'}]"
      ]
     },
     "execution_count": 62,
     "metadata": {},
     "output_type": "execute_result"
    }
   ],
   "source": [
    "print(f\"{data_json[3441]['speaker_name']}, '{data_json[3441]['title']}'\")\n",
    "data_json[3441]['tags']"
   ]
  },
  {
   "cell_type": "markdown",
   "metadata": {},
   "source": [
    "As you can observe, the work is done perfectly: tags connected with TED Talks were labeled as \"garbage\", speakers were labeled as \"name\", and everything else was claimed to be \"normal\"."
   ]
  },
  {
   "cell_type": "markdown",
   "metadata": {},
   "source": [
    "## Making a dictionary out of date and time\n",
    "\n",
    "Since we now keep our data in a json object, that would be logical to transform anything we can into dictionaries. It seems pretty natural to keep everything we know about date and time in the same place."
   ]
  },
  {
   "cell_type": "code",
   "execution_count": 63,
   "metadata": {},
   "outputs": [],
   "source": [
    "df = pd.json_normalize(data_json, max_level=0)\n",
    "date_list = []\n",
    "\n",
    "for i in range(df.shape[0]):\n",
    "    year = df.iloc[i, 4]\n",
    "    month = df.iloc[i, 5]\n",
    "    day = df.iloc[i, 6]\n",
    "    hour = df.iloc[i, 7]\n",
    "    minute = df.iloc[i, 8]\n",
    "    \n",
    "    one_date = {'year': year, 'month': month, 'day': day,\n",
    "               'hour': hour, 'minute': minute}\n",
    "    date_list.append(one_date)\n",
    "    \n",
    "df['published_at'] = date_list\n",
    "df.drop(columns=['year', 'month', 'day', 'hour', 'minute'], inplace=True)\n",
    "df = df[['video_id', 'channel_id', 'title', 'speaker_name', 'published_at', 'description', \\\n",
    "         'thumbnail', 'captions', 'transcriber', 'reviewer', 'views', 'likes', 'dislikes', 'comments_count', 'tags']]\n",
    "\n",
    "data_json = df.to_json(orient=\"records\")\n",
    "data_json = json.loads(data_json)"
   ]
  },
  {
   "cell_type": "code",
   "execution_count": 64,
   "metadata": {
    "scrolled": false
   },
   "outputs": [
    {
     "data": {
      "text/plain": [
       "{'video_id': 'gu_PQBmk-6c',\n",
       " 'channel_id': 'UCAuUUnT6oDeKwE6v1NGQxug',\n",
       " 'title': 'If I controlled the Internet',\n",
       " 'speaker_name': 'Rives',\n",
       " 'published_at': {'year': '2006',\n",
       "  'month': '12',\n",
       "  'day': '25',\n",
       "  'hour': '17',\n",
       "  'minute': '58'},\n",
       " 'description': \"How many poets could cram eBay, Friendster and Monster.com into 3-minute poem worthy of a standing ovation? Enjoy Rives' unique talent.\",\n",
       " 'thumbnail': 'https://i.ytimg.com/vi/gu_PQBmk-6c/default.jpg',\n",
       " 'captions': 'I wrote this poem after hearing a pretty well known actress tell a very well known interviewer on television, \"I\\'m really getting into the Internet lately. I just wish it were more organized.\" So ... (Laughter) If I controlled the Internet, you could auction your broken heart on eBay. Take the money; go to Amazon; buy a phonebook for a country you\\'ve never been to -- call folks at random until you find someone who flirts really well in a foreign language. (Laughter) If I were in charge of the Internet, you could Mapquest your lover\\'s mood swings. Hang left at cranky, right at preoccupied, U-turn on silent treatment, all the way back to tongue kissing and good lovin\\'. You could navigate and understand every emotional intersection. Some days, I\\'m as shallow as a baking pan, but I still stretch miles in all directions. If I owned the Internet, Napster, Monster and Friendster.com would be one big website. That way you could listen to cool music while you pretend to look for a job and you\\'re really just chattin\\' with your pals. (Laughter) Heck, if I ran the Web, you could email dead people. (Laughter) They would not email you back (Laughter) -- but you\\'d get an automated reply. (Laughter) Their name in your inbox (Laughter) -- it\\'s all you wanted anyway. And a message saying, \"Hey, it\\'s me. I miss you. (Laughter) Listen, you\\'ll see being dead is dandy. Now you go back to raising kids and waging peace and craving candy.\" If I designed the Internet, childhood.com would be a loop of a boy in an orchard, with a ski pole for a sword, trashcan lid for a shield, shouting, \"I am the emperor of oranges. I am the emperor of oranges. I am the emperor of oranges.\" Now follow me, OK? (Laughter) Grandma.com would be a recipe for biscuits and spit-bath instructions. One, two, three. That links with hotdiggitydog.com. That is my grandfather. They take you to gruff-ex-cop-on-his-fourth-marriage.dad. He forms an attachment to kind-of-ditzy-but-still-sends-ginger-snaps-for-Christmas.mom, who downloads the boy in the orchard, the emperor of oranges, who grows up to be me -- the guy who usually goes too far. So if I were emperor of the Internet, I guess I\\'d still be mortal, huh? But at that point, I would probably already have the lowest possible mortgage and the most enlarged possible penis (Laughter) -- so I would outlaw spam on my first day in office. I wouldn\\'t need it. I\\'d be like some kind of Internet genius, and me, I\\'d like to upgrade to deity and maybe just like that -- pop! -- I\\'d go wireless. (Laughter) Huh? Maybe Google would hire this. I could zip through your servers and firewalls like a virus until the World Wide Web is as wise, as wild and as organized as I think a modern-day miracle/oracle can get, but, ooh-eee, you want to bet just how whack and un-PC your Mac or PC is going to be when I\\'m rocking hot-shit-hot-shot-god.net? I guess it\\'s just like life. It is not a question of if you can -- it\\'s: do ya? We can interfere with the interface. We can make \"You\\'ve got Hallelujah\" the national anthem of cyberspace every lucky time we log on. You don\\'t say a prayer. You don\\'t write a psalm. You don\\'t chant an \"om.\" You send one blessed email to whomever you\\'re thinking of at dah-da-la-dat-da-dah-da-la-dat.com. Thank you, TED. (Applause)',\n",
       " 'transcriber': None,\n",
       " 'reviewer': None,\n",
       " 'views': 351573,\n",
       " 'likes': 3362.0,\n",
       " 'dislikes': 174.0,\n",
       " 'comments_count': 362.0,\n",
       " 'tags': [{'tag': 'Rives', 'type': 'name'},\n",
       "  {'tag': 'TED', 'type': 'garbage'},\n",
       "  {'tag': 'TEDTalks', 'type': 'garbage'},\n",
       "  {'tag': 'talks', 'type': 'garbage'},\n",
       "  {'tag': 'spoken word', 'type': 'normal'},\n",
       "  {'tag': 'def', 'type': 'normal'},\n",
       "  {'tag': 'poetry', 'type': 'normal'},\n",
       "  {'tag': 'jam', 'type': 'normal'},\n",
       "  {'tag': 'entertainment', 'type': 'normal'},\n",
       "  {'tag': 'slam', 'type': 'normal'}]}"
      ]
     },
     "execution_count": 64,
     "metadata": {},
     "output_type": "execute_result"
    }
   ],
   "source": [
    "data_json[3573]"
   ]
  },
  {
   "cell_type": "code",
   "execution_count": 65,
   "metadata": {},
   "outputs": [],
   "source": [
    "with open('./data/videos_clean_tags.json', 'w') as file:\n",
    "    json.dump(data_json, file)\n",
    "\n",
    "utils.upload_to_googledrive('videos_clean_tags.json')"
   ]
  },
  {
   "cell_type": "code",
   "execution_count": 66,
   "metadata": {},
   "outputs": [
    {
     "name": "stdout",
     "output_type": "stream",
     "text": [
      "<class 'pandas.core.frame.DataFrame'>\n",
      "RangeIndex: 3574 entries, 0 to 3573\n",
      "Data columns (total 15 columns):\n",
      " #   Column          Non-Null Count  Dtype  \n",
      "---  ------          --------------  -----  \n",
      " 0   video_id        3574 non-null   object \n",
      " 1   channel_id      3574 non-null   object \n",
      " 2   title           3574 non-null   object \n",
      " 3   speaker_name    3574 non-null   object \n",
      " 4   published_at    3574 non-null   object \n",
      " 5   description     3574 non-null   object \n",
      " 6   thumbnail       3574 non-null   object \n",
      " 7   captions        3574 non-null   object \n",
      " 8   transcriber     148 non-null    object \n",
      " 9   reviewer        148 non-null    object \n",
      " 10  views           3574 non-null   int64  \n",
      " 11  likes           3564 non-null   float64\n",
      " 12  dislikes        3564 non-null   float64\n",
      " 13  comments_count  3538 non-null   float64\n",
      " 14  tags            3574 non-null   object \n",
      "dtypes: float64(3), int64(1), object(11)\n",
      "memory usage: 419.0+ KB\n"
     ]
    }
   ],
   "source": [
    "df.info()"
   ]
  },
  {
   "cell_type": "markdown",
   "metadata": {},
   "source": [
    "Now that we are done with data cleansing, it is time to move on to other kinds of tasks."
   ]
  }
 ],
 "metadata": {
  "kernelspec": {
   "display_name": "Python 3",
   "language": "python",
   "name": "python3"
  },
  "language_info": {
   "codemirror_mode": {
    "name": "ipython",
    "version": 3
   },
   "file_extension": ".py",
   "mimetype": "text/x-python",
   "name": "python",
   "nbconvert_exporter": "python",
   "pygments_lexer": "ipython3",
   "version": "3.8.8"
  }
 },
 "nbformat": 4,
 "nbformat_minor": 4
}
