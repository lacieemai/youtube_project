{
 "cells": [
  {
   "cell_type": "markdown",
   "metadata": {},
   "source": [
    "# Chapter 1. Getting the data\n",
    "\n",
    "The first step of the project was to choose cleverly which YouTube channel we are going to use to fit our future model. The choice fell on [TED channel](https://www.youtube.com/user/TEDtalksDirector) as almost every video of that has subtitles; moreover, there's no advertisement, the topics that the videocontent covers is extensive and the amount of videos exceeds 3.5 thousands, which is undoubtedly favorable for our purposes.\n",
    "\n",
    "## Imports\n",
    "\n",
    "In order to get metadata about the videos we need to interact with Google API (using module `google-api-python-client` 2.2.0). Module `pprint` is optional, nevertheless I decided to use it to make some outputs look clearer. \n",
    "\n",
    "So, we want to download captions, the vast amount of captions. Unfortunately, hardly could we do that easily using Google API. \n",
    "One call of the method for captions download costs 50 quota (10.000 of which is given you a day), and that would take you several weeks to get the job done for 3.5K videos. That is why the solution is to use another module for that, in our case `pytube`; it's gonna handle everything this very day.\n",
    "\n",
    "`utils` is a custom file that contains various functions and constants which will be needed throughout the project."
   ]
  },
  {
   "cell_type": "code",
   "execution_count": 3,
   "metadata": {
    "id": "Khj_6_9Cj0VC"
   },
   "outputs": [],
   "source": [
    "import pandas as pd\n",
    "import googleapiclient.discovery\n",
    "import pprint\n",
    "\n",
    "from pytube import YouTube\n",
    "from utils import DATA, TEMP, MIME, google_const, upload_to_googledrive"
   ]
  },
  {
   "cell_type": "code",
   "execution_count": 6,
   "metadata": {},
   "outputs": [],
   "source": [
    "pp = pprint.PrettyPrinter(indent=4)"
   ]
  },
  {
   "cell_type": "markdown",
   "metadata": {},
   "source": [
    "## Downloading initial metadata\n",
    "\n",
    "First of all we create a `youtube` object that will be responsible for making queries. It requires your own Google API key which can be created on [Google Cloud Platform](https://console.cloud.google.com/). "
   ]
  },
  {
   "cell_type": "code",
   "execution_count": 7,
   "metadata": {
    "id": "X4oBmGGEj0VD"
   },
   "outputs": [],
   "source": [
    "youtube = googleapiclient.discovery.build(serviceName=\"youtube\", version=\"v3\", developerKey=google_const['apikey'])"
   ]
  },
  {
   "cell_type": "markdown",
   "metadata": {},
   "source": [
    "Next we construct our first request. This one is going to retrieve some metadata from an [all-videos playlist](https://www.youtube.com/playlist?list=UUAuUUnT6oDeKwE6v1NGQxug) on TED channel. The data that we want to know now for each video in the playlist is its id, title, description and a thumbnail link (just in case). That will be enough for now."
   ]
  },
  {
   "cell_type": "code",
   "execution_count": 8,
   "metadata": {
    "id": "rHlQNe1Tj0VD"
   },
   "outputs": [],
   "source": [
    "videos_request = youtube.playlistItems().list(\n",
    "    part = \"id, snippet, contentDetails, status\",\n",
    "    playlistId = google_const['playlist_id'],\n",
    "    maxResults = 50\n",
    ")"
   ]
  },
  {
   "cell_type": "code",
   "execution_count": 9,
   "metadata": {
    "id": "Q5-rEpsMj0VE"
   },
   "outputs": [],
   "source": [
    "videos_response = videos_request.execute()\n",
    "\n",
    "playlist_items = []\n",
    "\n",
    "while videos_request is not None:\n",
    "    videos_response = videos_request.execute()\n",
    "    playlist_items += videos_response[\"items\"]\n",
    "    videos_request = youtube.playlistItems().list_next(videos_request, videos_response)"
   ]
  },
  {
   "cell_type": "code",
   "execution_count": 10,
   "metadata": {
    "colab": {
     "base_uri": "https://localhost:8080/"
    },
    "id": "XwTkIbrKj0VE",
    "outputId": "3e03704b-714b-47fa-859a-fa418961a710"
   },
   "outputs": [
    {
     "name": "stdout",
     "output_type": "stream",
     "text": [
      "total: 3689\n"
     ]
    }
   ],
   "source": [
    "print(f\"total: {len(playlist_items)}\")"
   ]
  },
  {
   "cell_type": "markdown",
   "metadata": {},
   "source": [
    "Wow, we did really get something! Let's take a look at the first metadata piece."
   ]
  },
  {
   "cell_type": "code",
   "execution_count": 11,
   "metadata": {
    "colab": {
     "base_uri": "https://localhost:8080/"
    },
    "id": "EzKQRlrhj0VF",
    "outputId": "0cd3b8c4-27d6-4fa8-a11e-664c964a1f30",
    "scrolled": false
   },
   "outputs": [
    {
     "name": "stdout",
     "output_type": "stream",
     "text": [
      "{   'contentDetails': {   'videoId': 'XQJhRDbsDzI',\n",
      "                          'videoPublishedAt': '2021-07-10T14:00:12Z'},\n",
      "    'etag': 'wxvFVE9dT64ljmYX8wfyv6RX4K0',\n",
      "    'id': 'VVVBdVVVblQ2b0RlS3dFNnYxTkdReHVnLlhRSmhSRGJzRHpJ',\n",
      "    'kind': 'youtube#playlistItem',\n",
      "    'snippet': {   'channelId': 'UCAuUUnT6oDeKwE6v1NGQxug',\n",
      "                   'channelTitle': 'TED',\n",
      "                   'description': 'Watch the full talk: '\n",
      "                                  'http://tedtalks.social/superpower\\n'\n",
      "                                  '\\n'\n",
      "                                  'A clip from America Ferrera\\'s TED Talk \"My '\n",
      "                                  'identity is a superpower -- not an '\n",
      "                                  'obstacle\" from TED2019\\n'\n",
      "                                  '\\n'\n",
      "                                  'Hollywood needs to stop resisting what the '\n",
      "                                  'world actually looks like, says actor, '\n",
      "                                  'director and activist America Ferrera. '\n",
      "                                  'Tracing the contours of her career, she '\n",
      "                                  'calls for more authentic representation of '\n",
      "                                  'different cultures in media -- and a shift '\n",
      "                                  'in how we tell our stories. \"Presence '\n",
      "                                  'creates possibility,\" she says. \"Who we see '\n",
      "                                  'thriving in the world teaches us how to see '\n",
      "                                  'ourselves, how to think about our own '\n",
      "                                  'value, how to dream about our futures.\"\\n'\n",
      "                                  '\\n'\n",
      "                                  'The TED Talks channel features the best '\n",
      "                                  'talks and performances from the TED '\n",
      "                                  \"Conference, where the world's leading \"\n",
      "                                  'thinkers and doers give the talk of their '\n",
      "                                  'lives in 18 minutes (or less). Look for '\n",
      "                                  'talks on Technology, Entertainment and '\n",
      "                                  'Design -- plus science, business, global '\n",
      "                                  \"issues, the arts and more. You're welcome \"\n",
      "                                  'to link to or embed these videos, forward '\n",
      "                                  'them to others and share these ideas with '\n",
      "                                  'people you know. \\n'\n",
      "                                  '\\n'\n",
      "                                  'Become a TED Member: '\n",
      "                                  'http://ted.com/membership\\n'\n",
      "                                  'Follow TED on Twitter: '\n",
      "                                  'http://twitter.com/TEDTalks\\n'\n",
      "                                  'Like TED on Facebook: '\n",
      "                                  'http://facebook.com/TED\\n'\n",
      "                                  'Subscribe to our channel: '\n",
      "                                  'http://youtube.com/TED\\n'\n",
      "                                  '\\n'\n",
      "                                  \"TED's videos may be used for non-commercial \"\n",
      "                                  'purposes under a Creative Commons License, '\n",
      "                                  'Attribution–Non Commercial–No Derivatives '\n",
      "                                  '(or the CC BY – NC – ND 4.0 International) '\n",
      "                                  'and in accordance with our TED Talks Usage '\n",
      "                                  'Policy '\n",
      "                                  '(https://www.ted.com/about/our-organization/our-policies-terms/ted-talks-usage-policy). '\n",
      "                                  'For more information on using TED for '\n",
      "                                  'commercial purposes (e.g. employee '\n",
      "                                  'learning, in a film or online course), '\n",
      "                                  'please submit a Media Request at '\n",
      "                                  'https://media-requests.ted.com',\n",
      "                   'playlistId': 'UUAuUUnT6oDeKwE6v1NGQxug',\n",
      "                   'position': 0,\n",
      "                   'publishedAt': '2021-07-10T14:00:12Z',\n",
      "                   'resourceId': {   'kind': 'youtube#video',\n",
      "                                     'videoId': 'XQJhRDbsDzI'},\n",
      "                   'thumbnails': {   'default': {   'height': 90,\n",
      "                                                    'url': 'https://i.ytimg.com/vi/XQJhRDbsDzI/default.jpg',\n",
      "                                                    'width': 120},\n",
      "                                     'high': {   'height': 360,\n",
      "                                                 'url': 'https://i.ytimg.com/vi/XQJhRDbsDzI/hqdefault.jpg',\n",
      "                                                 'width': 480},\n",
      "                                     'maxres': {   'height': 720,\n",
      "                                                   'url': 'https://i.ytimg.com/vi/XQJhRDbsDzI/maxresdefault.jpg',\n",
      "                                                   'width': 1280},\n",
      "                                     'medium': {   'height': 180,\n",
      "                                                   'url': 'https://i.ytimg.com/vi/XQJhRDbsDzI/mqdefault.jpg',\n",
      "                                                   'width': 320},\n",
      "                                     'standard': {   'height': 480,\n",
      "                                                     'url': 'https://i.ytimg.com/vi/XQJhRDbsDzI/sddefault.jpg',\n",
      "                                                     'width': 640}},\n",
      "                   'title': 'Your identity is your superpower | America '\n",
      "                            'Ferrera',\n",
      "                   'videoOwnerChannelId': 'UCAuUUnT6oDeKwE6v1NGQxug',\n",
      "                   'videoOwnerChannelTitle': 'TED'},\n",
      "    'status': {'privacyStatus': 'public'}}\n"
     ]
    }
   ],
   "source": [
    "pp.pprint(playlist_items[0])"
   ]
  },
  {
   "cell_type": "markdown",
   "metadata": {},
   "source": [
    "**Note:** there are two types of id-s: `id` uniquely identifies a video inside of the playlist, and `videoId` is a global identificational number used in video links, for example. At this point we will keep both of them."
   ]
  },
  {
   "cell_type": "code",
   "execution_count": 12,
   "metadata": {
    "id": "Hh6q_BJpj0VF"
   },
   "outputs": [],
   "source": [
    "ids, titles, descriptions, thumbnails, video_ids = [], [], [], [], []\n",
    "\n",
    "for dictionary in playlist_items:\n",
    "    ids.append(dictionary[\"id\"])\n",
    "    titles.append(dictionary[\"snippet\"][\"title\"])\n",
    "    descriptions.append(dictionary[\"snippet\"][\"description\"])\n",
    "    thumbnails.append(dictionary[\"snippet\"][\"thumbnails\"][\"default\"][\"url\"])\n",
    "    video_ids.append(dictionary[\"snippet\"][\"resourceId\"][\"videoId\"])\n",
    "    \n",
    "assert len(video_ids) == len(titles) == len(descriptions) == len(thumbnails)"
   ]
  },
  {
   "cell_type": "markdown",
   "metadata": {},
   "source": [
    "Now let's make a dataframe out of the data we've got and take a look at what we've done. Saving the data to a temporary directory as a checkpoint is also a good idea."
   ]
  },
  {
   "cell_type": "code",
   "execution_count": 13,
   "metadata": {
    "id": "20hrtP5Xj0VG"
   },
   "outputs": [],
   "source": [
    "vids_ted = pd.DataFrame(list(zip(ids, titles, descriptions, thumbnails, video_ids)), \n",
    "                        columns=[\"id\", \"title\", \"description\", \"thumbnail\", \"video_id\"])"
   ]
  },
  {
   "cell_type": "code",
   "execution_count": 14,
   "metadata": {
    "id": "W-_fAI4Mj0VH"
   },
   "outputs": [],
   "source": [
    "vids_ted.to_csv(DATA + TEMP + \"videos_demo.csv\", sep=',')"
   ]
  },
  {
   "cell_type": "code",
   "execution_count": 15,
   "metadata": {
    "colab": {
     "base_uri": "https://localhost:8080/"
    },
    "id": "zbNCicy5gT9o",
    "outputId": "32c702e0-5235-4255-e1dd-34d0cabc3e73"
   },
   "outputs": [],
   "source": [
    "upload_to_googledrive(\"videos_demo.csv\", google_const['temp_data_folder_id'], path=DATA+TEMP, mime=MIME)"
   ]
  },
  {
   "cell_type": "code",
   "execution_count": 16,
   "metadata": {
    "colab": {
     "base_uri": "https://localhost:8080/",
     "height": 204
    },
    "id": "LL60ctptj0VG",
    "outputId": "470841b8-857c-421b-ecb5-0ca4ee9851d3"
   },
   "outputs": [
    {
     "data": {
      "text/html": [
       "<div>\n",
       "<style scoped>\n",
       "    .dataframe tbody tr th:only-of-type {\n",
       "        vertical-align: middle;\n",
       "    }\n",
       "\n",
       "    .dataframe tbody tr th {\n",
       "        vertical-align: top;\n",
       "    }\n",
       "\n",
       "    .dataframe thead th {\n",
       "        text-align: right;\n",
       "    }\n",
       "</style>\n",
       "<table border=\"1\" class=\"dataframe\">\n",
       "  <thead>\n",
       "    <tr style=\"text-align: right;\">\n",
       "      <th></th>\n",
       "      <th>id</th>\n",
       "      <th>title</th>\n",
       "      <th>description</th>\n",
       "      <th>thumbnail</th>\n",
       "      <th>video_id</th>\n",
       "    </tr>\n",
       "  </thead>\n",
       "  <tbody>\n",
       "    <tr>\n",
       "      <th>0</th>\n",
       "      <td>VVVBdVVVblQ2b0RlS3dFNnYxTkdReHVnLlhRSmhSRGJzRHpJ</td>\n",
       "      <td>Your identity is your superpower | America Fer...</td>\n",
       "      <td>Watch the full talk: http://tedtalks.social/su...</td>\n",
       "      <td>https://i.ytimg.com/vi/XQJhRDbsDzI/default.jpg</td>\n",
       "      <td>XQJhRDbsDzI</td>\n",
       "    </tr>\n",
       "    <tr>\n",
       "      <th>1</th>\n",
       "      <td>VVVBdVVVblQ2b0RlS3dFNnYxTkdReHVnLnh2RzNmdEV2NXJN</td>\n",
       "      <td>Documentary films that explore trauma -- and m...</td>\n",
       "      <td>Visit http://TED.com/shapeyourfuture to watch ...</td>\n",
       "      <td>https://i.ytimg.com/vi/xvG3ftEv5rM/default.jpg</td>\n",
       "      <td>xvG3ftEv5rM</td>\n",
       "    </tr>\n",
       "    <tr>\n",
       "      <th>2</th>\n",
       "      <td>VVVBdVVVblQ2b0RlS3dFNnYxTkdReHVnLkRFU0NjalNRU0tZ</td>\n",
       "      <td>A cleanse won't detox your body -- but here's ...</td>\n",
       "      <td>Put down the cayenne-lemon water and step away...</td>\n",
       "      <td>https://i.ytimg.com/vi/DESCcjSQSKY/default.jpg</td>\n",
       "      <td>DESCcjSQSKY</td>\n",
       "    </tr>\n",
       "    <tr>\n",
       "      <th>3</th>\n",
       "      <td>VVVBdVVVblQ2b0RlS3dFNnYxTkdReHVnLkQzTEZWbEk1aXI4</td>\n",
       "      <td>What should humans take to space (and leave be...</td>\n",
       "      <td>Visit http://TED.com/shapeyourfuture to watch ...</td>\n",
       "      <td>https://i.ytimg.com/vi/D3LFVlI5ir8/default.jpg</td>\n",
       "      <td>D3LFVlI5ir8</td>\n",
       "    </tr>\n",
       "    <tr>\n",
       "      <th>4</th>\n",
       "      <td>VVVBdVVVblQ2b0RlS3dFNnYxTkdReHVnLkVmZWlLUFNCS2Zn</td>\n",
       "      <td>How to be a professional troublemaker | Luvvie...</td>\n",
       "      <td>Visit http://TED.com to get our entire library...</td>\n",
       "      <td>https://i.ytimg.com/vi/EfeiKPSBKfg/default.jpg</td>\n",
       "      <td>EfeiKPSBKfg</td>\n",
       "    </tr>\n",
       "  </tbody>\n",
       "</table>\n",
       "</div>"
      ],
      "text/plain": [
       "                                                 id  \\\n",
       "0  VVVBdVVVblQ2b0RlS3dFNnYxTkdReHVnLlhRSmhSRGJzRHpJ   \n",
       "1  VVVBdVVVblQ2b0RlS3dFNnYxTkdReHVnLnh2RzNmdEV2NXJN   \n",
       "2  VVVBdVVVblQ2b0RlS3dFNnYxTkdReHVnLkRFU0NjalNRU0tZ   \n",
       "3  VVVBdVVVblQ2b0RlS3dFNnYxTkdReHVnLkQzTEZWbEk1aXI4   \n",
       "4  VVVBdVVVblQ2b0RlS3dFNnYxTkdReHVnLkVmZWlLUFNCS2Zn   \n",
       "\n",
       "                                               title  \\\n",
       "0  Your identity is your superpower | America Fer...   \n",
       "1  Documentary films that explore trauma -- and m...   \n",
       "2  A cleanse won't detox your body -- but here's ...   \n",
       "3  What should humans take to space (and leave be...   \n",
       "4  How to be a professional troublemaker | Luvvie...   \n",
       "\n",
       "                                         description  \\\n",
       "0  Watch the full talk: http://tedtalks.social/su...   \n",
       "1  Visit http://TED.com/shapeyourfuture to watch ...   \n",
       "2  Put down the cayenne-lemon water and step away...   \n",
       "3  Visit http://TED.com/shapeyourfuture to watch ...   \n",
       "4  Visit http://TED.com to get our entire library...   \n",
       "\n",
       "                                        thumbnail     video_id  \n",
       "0  https://i.ytimg.com/vi/XQJhRDbsDzI/default.jpg  XQJhRDbsDzI  \n",
       "1  https://i.ytimg.com/vi/xvG3ftEv5rM/default.jpg  xvG3ftEv5rM  \n",
       "2  https://i.ytimg.com/vi/DESCcjSQSKY/default.jpg  DESCcjSQSKY  \n",
       "3  https://i.ytimg.com/vi/D3LFVlI5ir8/default.jpg  D3LFVlI5ir8  \n",
       "4  https://i.ytimg.com/vi/EfeiKPSBKfg/default.jpg  EfeiKPSBKfg  "
      ]
     },
     "execution_count": 16,
     "metadata": {},
     "output_type": "execute_result"
    }
   ],
   "source": [
    "vids_ted.head()"
   ]
  },
  {
   "cell_type": "markdown",
   "metadata": {},
   "source": [
    "## Are there any subtitles at all?\n",
    "\n",
    "That is the question that can be easily answered using one more Google API query. \n",
    "\n",
    "**Note:** `maxResults` parameter's maximum value is 50, which means that every query is only able to return metadata about 50 videos. That is why we need a `chunks()` function that splits lists into chunks of any desirable size. We'll use it to create a list of lists, each consisting of 50 videoIds, in order to iterate over it herewith making as less queries as possible. Thus, we're actually gonna make not one, but several queries."
   ]
  },
  {
   "cell_type": "code",
   "execution_count": 17,
   "metadata": {
    "id": "JnL0ch9Bj0VI"
   },
   "outputs": [],
   "source": [
    "def chunks(lst, n):\n",
    "    for i in range(0, len(lst), n):\n",
    "        yield lst[i:i + n]"
   ]
  },
  {
   "cell_type": "code",
   "execution_count": 18,
   "metadata": {
    "id": "kaSvejeTj0VI"
   },
   "outputs": [],
   "source": [
    "video_ids = list(chunks(video_ids, 50))"
   ]
  },
  {
   "cell_type": "code",
   "execution_count": 19,
   "metadata": {
    "id": "9uRL0qqdj0VI"
   },
   "outputs": [],
   "source": [
    "ifcapts_items = []\n",
    "\n",
    "for video_id in video_ids:\n",
    "\n",
    "    ifcapts_request = youtube.videos().list(\n",
    "        part = \"id, contentDetails\",\n",
    "        id = video_id,\n",
    "        maxResults = 50\n",
    "    )\n",
    "\n",
    "    while ifcapts_request is not None:\n",
    "        ifcapts_response = ifcapts_request.execute()\n",
    "        ifcapts_items.append(ifcapts_response[\"items\"])\n",
    "        ifcapts_request = youtube.videos().list_next(ifcapts_request, ifcapts_response)"
   ]
  },
  {
   "cell_type": "markdown",
   "metadata": {},
   "source": [
    "By the way, we shouldn't forget that our `ifcapts_items` list is actually a list of lists, and we need to flatten it."
   ]
  },
  {
   "cell_type": "code",
   "execution_count": 20,
   "metadata": {
    "colab": {
     "base_uri": "https://localhost:8080/"
    },
    "id": "qd25QO-0j0VJ",
    "outputId": "af08bff0-ca8e-433f-8750-9789717c680d"
   },
   "outputs": [
    {
     "name": "stdout",
     "output_type": "stream",
     "text": [
      "total: 3689\n"
     ]
    }
   ],
   "source": [
    "ifcapts_items = [item for sublist in ifcapts_items for item in sublist]\n",
    "print(f\"total: {len(ifcapts_items)}\")"
   ]
  },
  {
   "cell_type": "markdown",
   "metadata": {},
   "source": [
    "Now we can add a boolean column to our `vids_ted` dataframe to point out whether a certain video has captions."
   ]
  },
  {
   "cell_type": "code",
   "execution_count": 21,
   "metadata": {
    "colab": {
     "base_uri": "https://localhost:8080/"
    },
    "id": "XkmmYYZnj0VJ",
    "outputId": "71f895a0-2732-454d-b41d-6a2897611c1f"
   },
   "outputs": [
    {
     "name": "stdout",
     "output_type": "stream",
     "text": [
      "true     3593\n",
      "false      96\n",
      "Name: capts_available, dtype: int64\n"
     ]
    }
   ],
   "source": [
    "capts_available = []\n",
    "\n",
    "for dictionary in ifcapts_items:\n",
    "    capts_available.append(dictionary[\"contentDetails\"][\"caption\"])\n",
    "\n",
    "vids_ted['capts_available'] = pd.Series(capts_available)\n",
    "print(vids_ted['capts_available'].value_counts())"
   ]
  },
  {
   "cell_type": "markdown",
   "metadata": {},
   "source": [
    "Just as presumed, only few videos don't have available subtitles. We can drop these 119 rows of data without a twinge of conscience."
   ]
  },
  {
   "cell_type": "code",
   "execution_count": 22,
   "metadata": {
    "id": "D7S9C0Myj0VK"
   },
   "outputs": [],
   "source": [
    "vids_ted = vids_ted[vids_ted['capts_available'] != 'false']\n",
    "vids_ted = vids_ted.drop(columns=['capts_available'])\n",
    "vids_ted.reset_index(drop=True, inplace=True)"
   ]
  },
  {
   "cell_type": "code",
   "execution_count": 23,
   "metadata": {
    "colab": {
     "base_uri": "https://localhost:8080/",
     "height": 204
    },
    "id": "OqF51HU3j0VK",
    "outputId": "b207f36a-6572-4efe-f236-1f2acf8497dc"
   },
   "outputs": [
    {
     "data": {
      "text/html": [
       "<div>\n",
       "<style scoped>\n",
       "    .dataframe tbody tr th:only-of-type {\n",
       "        vertical-align: middle;\n",
       "    }\n",
       "\n",
       "    .dataframe tbody tr th {\n",
       "        vertical-align: top;\n",
       "    }\n",
       "\n",
       "    .dataframe thead th {\n",
       "        text-align: right;\n",
       "    }\n",
       "</style>\n",
       "<table border=\"1\" class=\"dataframe\">\n",
       "  <thead>\n",
       "    <tr style=\"text-align: right;\">\n",
       "      <th></th>\n",
       "      <th>id</th>\n",
       "      <th>title</th>\n",
       "      <th>description</th>\n",
       "      <th>thumbnail</th>\n",
       "      <th>video_id</th>\n",
       "    </tr>\n",
       "  </thead>\n",
       "  <tbody>\n",
       "    <tr>\n",
       "      <th>0</th>\n",
       "      <td>VVVBdVVVblQ2b0RlS3dFNnYxTkdReHVnLlhRSmhSRGJzRHpJ</td>\n",
       "      <td>Your identity is your superpower | America Fer...</td>\n",
       "      <td>Watch the full talk: http://tedtalks.social/su...</td>\n",
       "      <td>https://i.ytimg.com/vi/XQJhRDbsDzI/default.jpg</td>\n",
       "      <td>XQJhRDbsDzI</td>\n",
       "    </tr>\n",
       "    <tr>\n",
       "      <th>1</th>\n",
       "      <td>VVVBdVVVblQ2b0RlS3dFNnYxTkdReHVnLnh2RzNmdEV2NXJN</td>\n",
       "      <td>Documentary films that explore trauma -- and m...</td>\n",
       "      <td>Visit http://TED.com/shapeyourfuture to watch ...</td>\n",
       "      <td>https://i.ytimg.com/vi/xvG3ftEv5rM/default.jpg</td>\n",
       "      <td>xvG3ftEv5rM</td>\n",
       "    </tr>\n",
       "    <tr>\n",
       "      <th>2</th>\n",
       "      <td>VVVBdVVVblQ2b0RlS3dFNnYxTkdReHVnLkRFU0NjalNRU0tZ</td>\n",
       "      <td>A cleanse won't detox your body -- but here's ...</td>\n",
       "      <td>Put down the cayenne-lemon water and step away...</td>\n",
       "      <td>https://i.ytimg.com/vi/DESCcjSQSKY/default.jpg</td>\n",
       "      <td>DESCcjSQSKY</td>\n",
       "    </tr>\n",
       "    <tr>\n",
       "      <th>3</th>\n",
       "      <td>VVVBdVVVblQ2b0RlS3dFNnYxTkdReHVnLkQzTEZWbEk1aXI4</td>\n",
       "      <td>What should humans take to space (and leave be...</td>\n",
       "      <td>Visit http://TED.com/shapeyourfuture to watch ...</td>\n",
       "      <td>https://i.ytimg.com/vi/D3LFVlI5ir8/default.jpg</td>\n",
       "      <td>D3LFVlI5ir8</td>\n",
       "    </tr>\n",
       "    <tr>\n",
       "      <th>4</th>\n",
       "      <td>VVVBdVVVblQ2b0RlS3dFNnYxTkdReHVnLkVmZWlLUFNCS2Zn</td>\n",
       "      <td>How to be a professional troublemaker | Luvvie...</td>\n",
       "      <td>Visit http://TED.com to get our entire library...</td>\n",
       "      <td>https://i.ytimg.com/vi/EfeiKPSBKfg/default.jpg</td>\n",
       "      <td>EfeiKPSBKfg</td>\n",
       "    </tr>\n",
       "  </tbody>\n",
       "</table>\n",
       "</div>"
      ],
      "text/plain": [
       "                                                 id  \\\n",
       "0  VVVBdVVVblQ2b0RlS3dFNnYxTkdReHVnLlhRSmhSRGJzRHpJ   \n",
       "1  VVVBdVVVblQ2b0RlS3dFNnYxTkdReHVnLnh2RzNmdEV2NXJN   \n",
       "2  VVVBdVVVblQ2b0RlS3dFNnYxTkdReHVnLkRFU0NjalNRU0tZ   \n",
       "3  VVVBdVVVblQ2b0RlS3dFNnYxTkdReHVnLkQzTEZWbEk1aXI4   \n",
       "4  VVVBdVVVblQ2b0RlS3dFNnYxTkdReHVnLkVmZWlLUFNCS2Zn   \n",
       "\n",
       "                                               title  \\\n",
       "0  Your identity is your superpower | America Fer...   \n",
       "1  Documentary films that explore trauma -- and m...   \n",
       "2  A cleanse won't detox your body -- but here's ...   \n",
       "3  What should humans take to space (and leave be...   \n",
       "4  How to be a professional troublemaker | Luvvie...   \n",
       "\n",
       "                                         description  \\\n",
       "0  Watch the full talk: http://tedtalks.social/su...   \n",
       "1  Visit http://TED.com/shapeyourfuture to watch ...   \n",
       "2  Put down the cayenne-lemon water and step away...   \n",
       "3  Visit http://TED.com/shapeyourfuture to watch ...   \n",
       "4  Visit http://TED.com to get our entire library...   \n",
       "\n",
       "                                        thumbnail     video_id  \n",
       "0  https://i.ytimg.com/vi/XQJhRDbsDzI/default.jpg  XQJhRDbsDzI  \n",
       "1  https://i.ytimg.com/vi/xvG3ftEv5rM/default.jpg  xvG3ftEv5rM  \n",
       "2  https://i.ytimg.com/vi/DESCcjSQSKY/default.jpg  DESCcjSQSKY  \n",
       "3  https://i.ytimg.com/vi/D3LFVlI5ir8/default.jpg  D3LFVlI5ir8  \n",
       "4  https://i.ytimg.com/vi/EfeiKPSBKfg/default.jpg  EfeiKPSBKfg  "
      ]
     },
     "execution_count": 23,
     "metadata": {},
     "output_type": "execute_result"
    }
   ],
   "source": [
    "vids_ted.head()"
   ]
  },
  {
   "cell_type": "code",
   "execution_count": 24,
   "metadata": {
    "id": "KlV8ZINcaxlb",
    "outputId": "80a963c2-e17b-4e26-ebd3-f94820fb3f4f"
   },
   "outputs": [
    {
     "name": "stdout",
     "output_type": "stream",
     "text": [
      "Total videos with captions: 3593\n"
     ]
    }
   ],
   "source": [
    "vids_with_capts = vids_ted[\"video_id\"].tolist()\n",
    "print(f'Total videos with captions: {len(vids_with_capts)}')"
   ]
  },
  {
   "cell_type": "markdown",
   "metadata": {},
   "source": [
    "## Downloading subtitles\n",
    "\n",
    "That is the moment to switch the instrument for data retrieval to the aforementioned `pytube`. Here we're also going to split data into chunks, but mainly in order to keep up with how's the download going. Though it won't be a week, it's still gonna take some time and I want to be able to look at the progress so as to know that something is happening and the cell is not just frozen.\n",
    "\n",
    "By the way, for such a massive task it's really important to forsee the possibility of exceptions. You never know what these may be, so I just wrote an `except` block that is suitable for any type of exceptions. If something bad happens with a caption, a special `failed_captions` list will be appended with a `videoId` of the video that is being processed and `captions` list will be appended with an empty string. Thereby the download won't be interrupted while in progress and the data won't be lost or spoiled, and I just won't have to resume the download manually."
   ]
  },
  {
   "cell_type": "code",
   "execution_count": 25,
   "metadata": {
    "id": "DtELGJXMj0VK"
   },
   "outputs": [],
   "source": [
    "vids_with_capts = list(chunks(vids_with_capts, 50))"
   ]
  },
  {
   "cell_type": "code",
   "execution_count": 26,
   "metadata": {
    "id": "OfYvHdESaxlb"
   },
   "outputs": [],
   "source": [
    "captions, failed_captions = [], []"
   ]
  },
  {
   "cell_type": "code",
   "execution_count": 27,
   "metadata": {
    "id": "YniYBIctaxlc",
    "outputId": "54f047df-947e-467f-a2db-2a933b1361b0",
    "scrolled": false
   },
   "outputs": [
    {
     "name": "stdout",
     "output_type": "stream",
     "text": [
      "KeyError Exception occured for video wybp16nlroo.\n",
      "Captions: 50\n",
      "KeyError Exception occured for video eKkI6-HeWXo.\n",
      "KeyError Exception occured for video OcMQ1-P6RdM.\n",
      "KeyError Exception occured for video CQL3ogC4qS8.\n",
      "Captions: 100\n",
      "Captions: 150\n",
      "Captions: 200\n",
      "Captions: 250\n",
      "Captions: 300\n",
      "Captions: 350\n",
      "Captions: 400\n",
      "Captions: 450\n",
      "Captions: 500\n",
      "Captions: 550\n",
      "Captions: 600\n",
      "Captions: 650\n",
      "Captions: 700\n",
      "Captions: 750\n",
      "Captions: 800\n",
      "Captions: 850\n",
      "Captions: 900\n",
      "Captions: 950\n",
      "Captions: 1000\n",
      "Captions: 1050\n",
      "Captions: 1100\n",
      "Captions: 1150\n",
      "Captions: 1200\n",
      "Captions: 1250\n",
      "Captions: 1300\n",
      "Captions: 1350\n",
      "Captions: 1400\n",
      "Captions: 1450\n",
      "Captions: 1500\n",
      "Captions: 1550\n",
      "Captions: 1600\n",
      "Captions: 1650\n",
      "Captions: 1700\n",
      "Captions: 1750\n",
      "Captions: 1800\n",
      "Captions: 1850\n",
      "Captions: 1900\n",
      "Captions: 1950\n",
      "Captions: 2000\n",
      "Captions: 2050\n",
      "Captions: 2100\n",
      "Captions: 2150\n",
      "Captions: 2200\n",
      "Captions: 2250\n",
      "Captions: 2300\n",
      "Captions: 2350\n",
      "Captions: 2400\n",
      "Captions: 2450\n",
      "Captions: 2500\n",
      "Captions: 2550\n",
      "Captions: 2600\n",
      "Captions: 2650\n",
      "Captions: 2700\n",
      "Captions: 2750\n",
      "Captions: 2800\n",
      "Captions: 2850\n",
      "Captions: 2900\n",
      "Captions: 2950\n",
      "Captions: 3000\n",
      "Captions: 3050\n",
      "Captions: 3100\n",
      "Captions: 3150\n",
      "Captions: 3200\n",
      "Captions: 3250\n",
      "Captions: 3300\n",
      "Captions: 3350\n",
      "Captions: 3400\n",
      "Captions: 3450\n",
      "Captions: 3500\n",
      "Captions: 3550\n",
      "Captions: 3593\n",
      "Total captions: 3593\n"
     ]
    }
   ],
   "source": [
    "for chunk in vids_with_capts:\n",
    "    for video in chunk:\n",
    "        try:\n",
    "            yt = YouTube(f'http://youtube.com/watch?v={video}')\n",
    "            caption = yt.captions['en']\n",
    "            captions.append(caption.generate_srt_captions())\n",
    "        except Exception as exception: \n",
    "            exception_name = type(exception).__name__\n",
    "            print(f\"{exception_name} Exception occured for video {video}.\")\n",
    "            captions.append(\"\")\n",
    "            failed_captions.append(video)\n",
    "            \n",
    "    print(f\"Captions: {len(captions)}\")\n",
    "    \n",
    "print(f\"Total captions: {len(captions)}\")"
   ]
  },
  {
   "cell_type": "code",
   "execution_count": 28,
   "metadata": {},
   "outputs": [
    {
     "name": "stdout",
     "output_type": "stream",
     "text": [
      "Total successful captions to save: 3589\n",
      "Total failed captions to save: 4\n"
     ]
    }
   ],
   "source": [
    "captions[:] = [x for x in captions if x]\n",
    "\n",
    "success = captions.copy()\n",
    "fail = failed_captions.copy()\n",
    "\n",
    "print(f\"Total successful captions to save: {len(success)}\")\n",
    "print(f\"Total failed captions to save: {len(fail)}\")"
   ]
  },
  {
   "cell_type": "markdown",
   "metadata": {},
   "source": [
    "So, approximately three hours later we're back here with a bunch of new juicy text data! I'm going to make a backup of everything that we've got and save that to a temporary directory."
   ]
  },
  {
   "cell_type": "code",
   "execution_count": 29,
   "metadata": {
    "id": "dDWdvyiWaxlc",
    "outputId": "69cef410-7e84-414b-f628-7d5a8b5a1011"
   },
   "outputs": [
    {
     "name": "stdout",
     "output_type": "stream",
     "text": [
      "Saving...\n",
      "\n",
      "Saved! [1]\n",
      "\n",
      "...\n",
      "\n",
      "Saved! [2]\n"
     ]
    }
   ],
   "source": [
    "print(f\"Saving...\\n\")\n",
    "    \n",
    "success = pd.Series(success)\n",
    "success.to_csv(DATA + TEMP + \"raw_captions.csv\", sep=',')\n",
    "upload_to_googledrive(\"raw_captions.csv\", google_const['temp_data_folder_id'], path=DATA+TEMP)\n",
    "print(f\"Saved! [1]\")\n",
    "\n",
    "print(f\"\\n...\\n\")\n",
    "\n",
    "fail = pd.Series(fail)\n",
    "fail.to_csv(DATA + TEMP + \"failed.csv\", sep=',')\n",
    "upload_to_googledrive(\"failed.csv\", google_const['temp_data_folder_id'], path=DATA+TEMP)\n",
    "print(f\"Saved! [2]\")"
   ]
  },
  {
   "cell_type": "markdown",
   "metadata": {},
   "source": [
    "And we should remove the failed rows, of course."
   ]
  },
  {
   "cell_type": "code",
   "execution_count": 54,
   "metadata": {
    "id": "HIvQDfrcaxld",
    "outputId": "b308da1f-c38b-4619-de0e-e38a676f3bf9"
   },
   "outputs": [
    {
     "name": "stdout",
     "output_type": "stream",
     "text": [
      "(3589, 13)\n",
      "(3589, 13)\n"
     ]
    }
   ],
   "source": [
    "print(vids_ted.shape)\n",
    "\n",
    "for video in failed_captions:\n",
    "    vids_ted = vids_ted[vids_ted['video_id'] != video]\n",
    "    \n",
    "vids_ted.reset_index(drop=True, inplace=True)\n",
    "\n",
    "print(vids_ted.shape)"
   ]
  },
  {
   "cell_type": "code",
   "execution_count": 58,
   "metadata": {
    "id": "nQBUbXuVaxld"
   },
   "outputs": [],
   "source": [
    "vids_ted['captions'] = captions"
   ]
  },
  {
   "cell_type": "markdown",
   "metadata": {},
   "source": [
    "## Downloading tags & additional metadata\n",
    "\n",
    "Now that we know which videos we're gonna work with, it's time to download the additional metadata that may be helpful for us. First of all, tags. Those are extremely important for the project as we are going to make them a target value to fit a model. Besides that, some statistics about videos such as views and likes, date of publication and id of the channel is something that we would like to see in our dataframe as well."
   ]
  },
  {
   "cell_type": "code",
   "execution_count": 59,
   "metadata": {},
   "outputs": [],
   "source": [
    "video_ids = list(vids_ted['video_id'])\n",
    "video_ids = list(chunks(video_ids, 50))"
   ]
  },
  {
   "cell_type": "code",
   "execution_count": 60,
   "metadata": {},
   "outputs": [],
   "source": [
    "additional_items = []\n",
    "\n",
    "for chunk_id in video_ids:\n",
    "\n",
    "    additional_request = youtube.videos().list(\n",
    "        id = chunk_id,\n",
    "        part = \"statistics, snippet\",\n",
    "        maxResults = 50\n",
    "    )\n",
    "\n",
    "    while additional_request is not None:\n",
    "        additional_response = additional_request.execute()\n",
    "        additional_items += additional_response[\"items\"]\n",
    "        additional_request = youtube.videos().list_next(additional_request, additional_response)"
   ]
  },
  {
   "cell_type": "code",
   "execution_count": 61,
   "metadata": {
    "scrolled": false
   },
   "outputs": [
    {
     "name": "stdout",
     "output_type": "stream",
     "text": [
      "{   'etag': 'RTiIaQ4ujfNby6fxzRIHp_Exc98',\n",
      "    'id': 'e3NA-aKpgFk',\n",
      "    'kind': 'youtube#video',\n",
      "    'snippet': {   'categoryId': '20',\n",
      "                   'channelId': 'UCAuUUnT6oDeKwE6v1NGQxug',\n",
      "                   'channelTitle': 'TED',\n",
      "                   'defaultLanguage': 'en',\n",
      "                   'description': 'http://www.ted.com In a friendly, '\n",
      "                                  'high-speed presentation, Will Wright demos '\n",
      "                                  'his newest game, Spore, which promises to '\n",
      "                                  'dazzle users even more than his previous '\n",
      "                                  'masterpieces.\\r\\n'\n",
      "                                  '\\r\\n'\n",
      "                                  'TEDTalks is a daily video podcast of the '\n",
      "                                  'best talks and performances from the TED '\n",
      "                                  \"Conference, where the world's leading \"\n",
      "                                  'thinkers and doers are invited to give the '\n",
      "                                  'talk of their lives in 18 minutes -- '\n",
      "                                  'including speakers such as Jill Bolte '\n",
      "                                  'Taylor, Sir Ken Robinson, Hans Rosling, Al '\n",
      "                                  'Gore and Arthur Benjamin. TED stands for '\n",
      "                                  'Technology, Entertainment, and Design, and '\n",
      "                                  'TEDTalks cover these topics as well as '\n",
      "                                  'science, business, politics and the arts. '\n",
      "                                  'Watch the Top 10 TEDTalks on TED.com, at\\r\\n'\n",
      "                                  'http://www.ted.com/index.php/talks/top10',\n",
      "                   'liveBroadcastContent': 'none',\n",
      "                   'localized': {   'description': 'http://www.ted.com In a '\n",
      "                                                   'friendly, high-speed '\n",
      "                                                   'presentation, Will Wright '\n",
      "                                                   'demos his newest game, '\n",
      "                                                   'Spore, which promises to '\n",
      "                                                   'dazzle users even more '\n",
      "                                                   'than his previous '\n",
      "                                                   'masterpieces.\\r\\n'\n",
      "                                                   '\\r\\n'\n",
      "                                                   'TEDTalks is a daily video '\n",
      "                                                   'podcast of the best talks '\n",
      "                                                   'and performances from the '\n",
      "                                                   'TED Conference, where the '\n",
      "                                                   \"world's leading thinkers \"\n",
      "                                                   'and doers are invited to '\n",
      "                                                   'give the talk of their '\n",
      "                                                   'lives in 18 minutes -- '\n",
      "                                                   'including speakers such as '\n",
      "                                                   'Jill Bolte Taylor, Sir Ken '\n",
      "                                                   'Robinson, Hans Rosling, Al '\n",
      "                                                   'Gore and Arthur Benjamin. '\n",
      "                                                   'TED stands for Technology, '\n",
      "                                                   'Entertainment, and Design, '\n",
      "                                                   'and TEDTalks cover these '\n",
      "                                                   'topics as well as science, '\n",
      "                                                   'business, politics and the '\n",
      "                                                   'arts. Watch the Top 10 '\n",
      "                                                   'TEDTalks on TED.com, at\\r\\n'\n",
      "                                                   'http://www.ted.com/index.php/talks/top10',\n",
      "                                    'title': 'Will Wright: Spore, birth of a '\n",
      "                                             'game'},\n",
      "                   'publishedAt': '2007-07-17T20:42:49Z',\n",
      "                   'tags': [   'Will',\n",
      "                               'Wright',\n",
      "                               'ted',\n",
      "                               'tedtalks',\n",
      "                               'talks',\n",
      "                               'toys',\n",
      "                               'games',\n",
      "                               'spore'],\n",
      "                   'thumbnails': {   'default': {   'height': 90,\n",
      "                                                    'url': 'https://i.ytimg.com/vi/e3NA-aKpgFk/default.jpg',\n",
      "                                                    'width': 120},\n",
      "                                     'high': {   'height': 360,\n",
      "                                                 'url': 'https://i.ytimg.com/vi/e3NA-aKpgFk/hqdefault.jpg',\n",
      "                                                 'width': 480},\n",
      "                                     'medium': {   'height': 180,\n",
      "                                                   'url': 'https://i.ytimg.com/vi/e3NA-aKpgFk/mqdefault.jpg',\n",
      "                                                   'width': 320}},\n",
      "                   'title': 'Will Wright: Spore, birth of a game'},\n",
      "    'statistics': {   'commentCount': '117',\n",
      "                      'dislikeCount': '16',\n",
      "                      'favoriteCount': '0',\n",
      "                      'likeCount': '701',\n",
      "                      'viewCount': '54853'}}\n"
     ]
    }
   ],
   "source": [
    "pp.pprint(additional_items[3484])"
   ]
  },
  {
   "cell_type": "markdown",
   "metadata": {},
   "source": [
    "Quite a big output. Luckily, we won't need the most of that.\n",
    "\n",
    "**Note:** some videos have no comments or they are turned off, as well as likes and dislikes. Because of that I've made a `try_to_append` function in order to handle KeyError exceptions that are inevitabely coming."
   ]
  },
  {
   "cell_type": "code",
   "execution_count": 62,
   "metadata": {},
   "outputs": [],
   "source": [
    "def try_to_append(data_list, dictionary, thing):\n",
    "    try:\n",
    "        data_list.append(dictionary[thing])\n",
    "    except KeyError:\n",
    "        data_list.append(None)"
   ]
  },
  {
   "cell_type": "code",
   "execution_count": 63,
   "metadata": {
    "scrolled": false
   },
   "outputs": [],
   "source": [
    "datetime, tags, channel_id, likes, dislikes, views, comments = [], [], [], [], [], [], []\n",
    "\n",
    "for dictionary in additional_items:\n",
    "    datetime.append(dictionary['snippet']['publishedAt'])\n",
    "    tags.append(dictionary['snippet']['tags'])\n",
    "    channel_id.append(dictionary['snippet']['channelId'])\n",
    "    views.append(dictionary['statistics']['viewCount'])\n",
    "    try_to_append(likes, dictionary['statistics'], 'likeCount')\n",
    "    try_to_append(dislikes, dictionary['statistics'], 'dislikeCount')\n",
    "    try_to_append(comments, dictionary['statistics'], 'commentCount')"
   ]
  },
  {
   "cell_type": "markdown",
   "metadata": {},
   "source": [
    "So how many KeyError exceptions did we handle and how many `None` values we'll have to put up with?"
   ]
  },
  {
   "cell_type": "code",
   "execution_count": 64,
   "metadata": {},
   "outputs": [
    {
     "data": {
      "text/plain": [
       "(10, 10, 37)"
      ]
     },
     "execution_count": 64,
     "metadata": {},
     "output_type": "execute_result"
    }
   ],
   "source": [
    "likes.count(None), dislikes.count(None), comments.count(None)"
   ]
  },
  {
   "cell_type": "markdown",
   "metadata": {},
   "source": [
    "Now we can say that we're done with downloading data. It's time to form a final dataframe and save it to a .csv file."
   ]
  },
  {
   "cell_type": "code",
   "execution_count": 65,
   "metadata": {},
   "outputs": [],
   "source": [
    "vids_ted['published_at'] = datetime\n",
    "vids_ted['tags'] = tags\n",
    "vids_ted['channel_id'] = channel_id\n",
    "vids_ted['views'] = views\n",
    "vids_ted['likes'] = likes\n",
    "vids_ted['dislikes'] = dislikes\n",
    "vids_ted['comments_count'] = comments"
   ]
  },
  {
   "cell_type": "code",
   "execution_count": 66,
   "metadata": {},
   "outputs": [
    {
     "data": {
      "text/html": [
       "<div>\n",
       "<style scoped>\n",
       "    .dataframe tbody tr th:only-of-type {\n",
       "        vertical-align: middle;\n",
       "    }\n",
       "\n",
       "    .dataframe tbody tr th {\n",
       "        vertical-align: top;\n",
       "    }\n",
       "\n",
       "    .dataframe thead th {\n",
       "        text-align: right;\n",
       "    }\n",
       "</style>\n",
       "<table border=\"1\" class=\"dataframe\">\n",
       "  <thead>\n",
       "    <tr style=\"text-align: right;\">\n",
       "      <th></th>\n",
       "      <th>id</th>\n",
       "      <th>title</th>\n",
       "      <th>description</th>\n",
       "      <th>thumbnail</th>\n",
       "      <th>video_id</th>\n",
       "      <th>captions</th>\n",
       "      <th>published_at</th>\n",
       "      <th>tags</th>\n",
       "      <th>channel_id</th>\n",
       "      <th>views</th>\n",
       "      <th>likes</th>\n",
       "      <th>dislikes</th>\n",
       "      <th>comments_count</th>\n",
       "    </tr>\n",
       "  </thead>\n",
       "  <tbody>\n",
       "    <tr>\n",
       "      <th>0</th>\n",
       "      <td>VVVBdVVVblQ2b0RlS3dFNnYxTkdReHVnLlhRSmhSRGJzRHpJ</td>\n",
       "      <td>Your identity is your superpower | America Fer...</td>\n",
       "      <td>Watch the full talk: http://tedtalks.social/su...</td>\n",
       "      <td>https://i.ytimg.com/vi/XQJhRDbsDzI/default.jpg</td>\n",
       "      <td>XQJhRDbsDzI</td>\n",
       "      <td>1\\n00:00:00,350 --&gt; 00:00:06,470\\nWhen I was 1...</td>\n",
       "      <td>2021-07-10T14:00:12Z</td>\n",
       "      <td>[TEDTalk, TEDTalks, TED Talk, TED Talks, busin...</td>\n",
       "      <td>UCAuUUnT6oDeKwE6v1NGQxug</td>\n",
       "      <td>69496</td>\n",
       "      <td>2991</td>\n",
       "      <td>385</td>\n",
       "      <td>8</td>\n",
       "    </tr>\n",
       "    <tr>\n",
       "      <th>1</th>\n",
       "      <td>VVVBdVVVblQ2b0RlS3dFNnYxTkdReHVnLnh2RzNmdEV2NXJN</td>\n",
       "      <td>Documentary films that explore trauma -- and m...</td>\n",
       "      <td>Visit http://TED.com/shapeyourfuture to watch ...</td>\n",
       "      <td>https://i.ytimg.com/vi/xvG3ftEv5rM/default.jpg</td>\n",
       "      <td>xvG3ftEv5rM</td>\n",
       "      <td>1\\n00:00:14,331 --&gt; 00:00:16,542\\n[SHAPE YOUR ...</td>\n",
       "      <td>2021-07-09T15:30:06Z</td>\n",
       "      <td>[TEDTalk, TEDTalks, TED Talk, TED Talks, story...</td>\n",
       "      <td>UCAuUUnT6oDeKwE6v1NGQxug</td>\n",
       "      <td>26010</td>\n",
       "      <td>1076</td>\n",
       "      <td>35</td>\n",
       "      <td>59</td>\n",
       "    </tr>\n",
       "    <tr>\n",
       "      <th>2</th>\n",
       "      <td>VVVBdVVVblQ2b0RlS3dFNnYxTkdReHVnLkRFU0NjalNRU0tZ</td>\n",
       "      <td>A cleanse won't detox your body -- but here's ...</td>\n",
       "      <td>Put down the cayenne-lemon water and step away...</td>\n",
       "      <td>https://i.ytimg.com/vi/DESCcjSQSKY/default.jpg</td>\n",
       "      <td>DESCcjSQSKY</td>\n",
       "      <td>1\\n00:00:00,000 --&gt; 00:00:07,000\\nTranscriber:...</td>\n",
       "      <td>2021-07-08T15:15:00Z</td>\n",
       "      <td>[TEDTalk, TEDTalks, TED Talk, TED Talks, food,...</td>\n",
       "      <td>UCAuUUnT6oDeKwE6v1NGQxug</td>\n",
       "      <td>457410</td>\n",
       "      <td>23220</td>\n",
       "      <td>452</td>\n",
       "      <td>828</td>\n",
       "    </tr>\n",
       "    <tr>\n",
       "      <th>3</th>\n",
       "      <td>VVVBdVVVblQ2b0RlS3dFNnYxTkdReHVnLkQzTEZWbEk1aXI4</td>\n",
       "      <td>What should humans take to space (and leave be...</td>\n",
       "      <td>Visit http://TED.com/shapeyourfuture to watch ...</td>\n",
       "      <td>https://i.ytimg.com/vi/D3LFVlI5ir8/default.jpg</td>\n",
       "      <td>D3LFVlI5ir8</td>\n",
       "      <td>1\\n00:00:14,871 --&gt; 00:00:16,579\\n[SHAPE YOUR ...</td>\n",
       "      <td>2021-07-07T15:14:57Z</td>\n",
       "      <td>[TEDTalk, TEDTalks, TED Talk, TED Talks, cultu...</td>\n",
       "      <td>UCAuUUnT6oDeKwE6v1NGQxug</td>\n",
       "      <td>23259</td>\n",
       "      <td>628</td>\n",
       "      <td>153</td>\n",
       "      <td>145</td>\n",
       "    </tr>\n",
       "    <tr>\n",
       "      <th>4</th>\n",
       "      <td>VVVBdVVVblQ2b0RlS3dFNnYxTkdReHVnLkVmZWlLUFNCS2Zn</td>\n",
       "      <td>How to be a professional troublemaker | Luvvie...</td>\n",
       "      <td>Visit http://TED.com to get our entire library...</td>\n",
       "      <td>https://i.ytimg.com/vi/EfeiKPSBKfg/default.jpg</td>\n",
       "      <td>EfeiKPSBKfg</td>\n",
       "      <td>1\\n00:00:00,000 --&gt; 00:00:07,000\\nTranscriber:...</td>\n",
       "      <td>2021-07-06T16:45:00Z</td>\n",
       "      <td>[TEDTalk, TEDTalks, TED Talk, TED Talks, Socia...</td>\n",
       "      <td>UCAuUUnT6oDeKwE6v1NGQxug</td>\n",
       "      <td>25494</td>\n",
       "      <td>844</td>\n",
       "      <td>96</td>\n",
       "      <td>95</td>\n",
       "    </tr>\n",
       "  </tbody>\n",
       "</table>\n",
       "</div>"
      ],
      "text/plain": [
       "                                                 id  \\\n",
       "0  VVVBdVVVblQ2b0RlS3dFNnYxTkdReHVnLlhRSmhSRGJzRHpJ   \n",
       "1  VVVBdVVVblQ2b0RlS3dFNnYxTkdReHVnLnh2RzNmdEV2NXJN   \n",
       "2  VVVBdVVVblQ2b0RlS3dFNnYxTkdReHVnLkRFU0NjalNRU0tZ   \n",
       "3  VVVBdVVVblQ2b0RlS3dFNnYxTkdReHVnLkQzTEZWbEk1aXI4   \n",
       "4  VVVBdVVVblQ2b0RlS3dFNnYxTkdReHVnLkVmZWlLUFNCS2Zn   \n",
       "\n",
       "                                               title  \\\n",
       "0  Your identity is your superpower | America Fer...   \n",
       "1  Documentary films that explore trauma -- and m...   \n",
       "2  A cleanse won't detox your body -- but here's ...   \n",
       "3  What should humans take to space (and leave be...   \n",
       "4  How to be a professional troublemaker | Luvvie...   \n",
       "\n",
       "                                         description  \\\n",
       "0  Watch the full talk: http://tedtalks.social/su...   \n",
       "1  Visit http://TED.com/shapeyourfuture to watch ...   \n",
       "2  Put down the cayenne-lemon water and step away...   \n",
       "3  Visit http://TED.com/shapeyourfuture to watch ...   \n",
       "4  Visit http://TED.com to get our entire library...   \n",
       "\n",
       "                                        thumbnail     video_id  \\\n",
       "0  https://i.ytimg.com/vi/XQJhRDbsDzI/default.jpg  XQJhRDbsDzI   \n",
       "1  https://i.ytimg.com/vi/xvG3ftEv5rM/default.jpg  xvG3ftEv5rM   \n",
       "2  https://i.ytimg.com/vi/DESCcjSQSKY/default.jpg  DESCcjSQSKY   \n",
       "3  https://i.ytimg.com/vi/D3LFVlI5ir8/default.jpg  D3LFVlI5ir8   \n",
       "4  https://i.ytimg.com/vi/EfeiKPSBKfg/default.jpg  EfeiKPSBKfg   \n",
       "\n",
       "                                            captions          published_at  \\\n",
       "0  1\\n00:00:00,350 --> 00:00:06,470\\nWhen I was 1...  2021-07-10T14:00:12Z   \n",
       "1  1\\n00:00:14,331 --> 00:00:16,542\\n[SHAPE YOUR ...  2021-07-09T15:30:06Z   \n",
       "2  1\\n00:00:00,000 --> 00:00:07,000\\nTranscriber:...  2021-07-08T15:15:00Z   \n",
       "3  1\\n00:00:14,871 --> 00:00:16,579\\n[SHAPE YOUR ...  2021-07-07T15:14:57Z   \n",
       "4  1\\n00:00:00,000 --> 00:00:07,000\\nTranscriber:...  2021-07-06T16:45:00Z   \n",
       "\n",
       "                                                tags  \\\n",
       "0  [TEDTalk, TEDTalks, TED Talk, TED Talks, busin...   \n",
       "1  [TEDTalk, TEDTalks, TED Talk, TED Talks, story...   \n",
       "2  [TEDTalk, TEDTalks, TED Talk, TED Talks, food,...   \n",
       "3  [TEDTalk, TEDTalks, TED Talk, TED Talks, cultu...   \n",
       "4  [TEDTalk, TEDTalks, TED Talk, TED Talks, Socia...   \n",
       "\n",
       "                 channel_id   views  likes dislikes comments_count  \n",
       "0  UCAuUUnT6oDeKwE6v1NGQxug   69496   2991      385              8  \n",
       "1  UCAuUUnT6oDeKwE6v1NGQxug   26010   1076       35             59  \n",
       "2  UCAuUUnT6oDeKwE6v1NGQxug  457410  23220      452            828  \n",
       "3  UCAuUUnT6oDeKwE6v1NGQxug   23259    628      153            145  \n",
       "4  UCAuUUnT6oDeKwE6v1NGQxug   25494    844       96             95  "
      ]
     },
     "execution_count": 66,
     "metadata": {},
     "output_type": "execute_result"
    }
   ],
   "source": [
    "vids_ted.head()"
   ]
  },
  {
   "cell_type": "code",
   "execution_count": 67,
   "metadata": {
    "id": "SuBGV_oAaxle"
   },
   "outputs": [],
   "source": [
    "vids_ted.to_csv(DATA + \"videos.csv\", sep=',')\n",
    "upload_to_googledrive(\"videos.csv\", google_const['data_folder_id'])"
   ]
  }
 ],
 "metadata": {
  "colab": {
   "collapsed_sections": [],
   "name": "youtube_ted_v2.0.ipynb",
   "provenance": []
  },
  "kernelspec": {
   "display_name": "Python 3",
   "language": "python",
   "name": "python3"
  },
  "language_info": {
   "codemirror_mode": {
    "name": "ipython",
    "version": 3
   },
   "file_extension": ".py",
   "mimetype": "text/x-python",
   "name": "python",
   "nbconvert_exporter": "python",
   "pygments_lexer": "ipython3",
   "version": "3.8.8"
  }
 },
 "nbformat": 4,
 "nbformat_minor": 1
}
